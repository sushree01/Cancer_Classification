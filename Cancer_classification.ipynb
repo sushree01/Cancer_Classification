{
  "nbformat": 4,
  "nbformat_minor": 0,
  "metadata": {
    "colab": {
      "provenance": []
    },
    "kernelspec": {
      "name": "python3",
      "display_name": "Python 3"
    },
    "language_info": {
      "name": "python"
    },
    "accelerator": "GPU",
    "gpuClass": "standard"
  },
  "cells": [
    {
      "cell_type": "code",
      "execution_count": null,
      "metadata": {
        "id": "HOSB4l0ldzQm"
      },
      "outputs": [],
      "source": []
    },
    {
      "cell_type": "code",
      "source": [
        "from google.colab import drive\n",
        "drive.mount('/content/drive')"
      ],
      "metadata": {
        "colab": {
          "base_uri": "https://localhost:8080/"
        },
        "id": "uatemUjEd3WB",
        "outputId": "8316f4ff-a447-4379-f85c-a21c3c7445da"
      },
      "execution_count": 1,
      "outputs": [
        {
          "output_type": "stream",
          "name": "stdout",
          "text": [
            "Mounted at /content/drive\n"
          ]
        }
      ]
    },
    {
      "cell_type": "code",
      "source": [
        "import numpy as np\n",
        "import pandas as pd\n",
        "import matplotlib.pyplot as plt\n",
        "import seaborn as sns\n",
        "import re"
      ],
      "metadata": {
        "id": "B9s-Qnatd4O0"
      },
      "execution_count": 2,
      "outputs": []
    },
    {
      "cell_type": "code",
      "source": [
        "from sklearn.preprocessing import LabelEncoder,StandardScaler,MinMaxScaler\n",
        "from sklearn.decomposition import PCA\n",
        "from sklearn.model_selection import train_test_split,GridSearchCV"
      ],
      "metadata": {
        "id": "HDUQlPsv02-1"
      },
      "execution_count": 3,
      "outputs": []
    },
    {
      "cell_type": "code",
      "source": [
        "pip install catboost"
      ],
      "metadata": {
        "colab": {
          "base_uri": "https://localhost:8080/"
        },
        "id": "cHxRXiCwRujo",
        "outputId": "1d2c7084-8c33-4bf5-d185-52fcc6a24b2c"
      },
      "execution_count": 4,
      "outputs": [
        {
          "output_type": "stream",
          "name": "stdout",
          "text": [
            "Looking in indexes: https://pypi.org/simple, https://us-python.pkg.dev/colab-wheels/public/simple/\n",
            "Collecting catboost\n",
            "  Downloading catboost-1.1.1-cp38-none-manylinux1_x86_64.whl (76.6 MB)\n",
            "\u001b[K     |████████████████████████████████| 76.6 MB 1.2 MB/s \n",
            "\u001b[?25hRequirement already satisfied: plotly in /usr/local/lib/python3.8/dist-packages (from catboost) (5.5.0)\n",
            "Requirement already satisfied: pandas>=0.24.0 in /usr/local/lib/python3.8/dist-packages (from catboost) (1.3.5)\n",
            "Requirement already satisfied: six in /usr/local/lib/python3.8/dist-packages (from catboost) (1.15.0)\n",
            "Requirement already satisfied: numpy>=1.16.0 in /usr/local/lib/python3.8/dist-packages (from catboost) (1.21.6)\n",
            "Requirement already satisfied: matplotlib in /usr/local/lib/python3.8/dist-packages (from catboost) (3.2.2)\n",
            "Requirement already satisfied: scipy in /usr/local/lib/python3.8/dist-packages (from catboost) (1.7.3)\n",
            "Requirement already satisfied: graphviz in /usr/local/lib/python3.8/dist-packages (from catboost) (0.10.1)\n",
            "Requirement already satisfied: pytz>=2017.3 in /usr/local/lib/python3.8/dist-packages (from pandas>=0.24.0->catboost) (2022.6)\n",
            "Requirement already satisfied: python-dateutil>=2.7.3 in /usr/local/lib/python3.8/dist-packages (from pandas>=0.24.0->catboost) (2.8.2)\n",
            "Requirement already satisfied: pyparsing!=2.0.4,!=2.1.2,!=2.1.6,>=2.0.1 in /usr/local/lib/python3.8/dist-packages (from matplotlib->catboost) (3.0.9)\n",
            "Requirement already satisfied: cycler>=0.10 in /usr/local/lib/python3.8/dist-packages (from matplotlib->catboost) (0.11.0)\n",
            "Requirement already satisfied: kiwisolver>=1.0.1 in /usr/local/lib/python3.8/dist-packages (from matplotlib->catboost) (1.4.4)\n",
            "Requirement already satisfied: tenacity>=6.2.0 in /usr/local/lib/python3.8/dist-packages (from plotly->catboost) (8.1.0)\n",
            "Installing collected packages: catboost\n",
            "Successfully installed catboost-1.1.1\n"
          ]
        }
      ]
    },
    {
      "cell_type": "code",
      "source": [
        "from imblearn.over_sampling import SMOTE\n",
        "from sklearn.decomposition import PCA\n",
        "from xgboost import XGBClassifier\n",
        "from sklearn.linear_model import LogisticRegression,SGDClassifier\n",
        "from sklearn.tree import DecisionTreeClassifier\n",
        "from sklearn.ensemble import RandomForestClassifier,AdaBoostClassifier,GradientBoostingClassifier\n",
        "from sklearn.neighbors import KNeighborsClassifier\n",
        "from sklearn.naive_bayes import GaussianNB\n",
        "from sklearn.svm import SVC\n",
        "from lightgbm import LGBMClassifier\n",
        "from catboost import CatBoostClassifier"
      ],
      "metadata": {
        "id": "nczv73gMRZhE"
      },
      "execution_count": 5,
      "outputs": []
    },
    {
      "cell_type": "code",
      "source": [
        "from sklearn.metrics import accuracy_score,confusion_matrix,classification_report,recall_score,precision_score"
      ],
      "metadata": {
        "id": "-EQMg_OlX5t2"
      },
      "execution_count": 6,
      "outputs": []
    },
    {
      "cell_type": "code",
      "source": [
        "#pip install sunbird"
      ],
      "metadata": {
        "id": "03RPPYnJjIxN"
      },
      "execution_count": null,
      "outputs": []
    },
    {
      "cell_type": "code",
      "source": [
        " from sunbird.categorical_encoding import frequency_encoding"
      ],
      "metadata": {
        "id": "NUSZ3BbJi9KP"
      },
      "execution_count": null,
      "outputs": []
    },
    {
      "cell_type": "code",
      "source": [
        "df_data=pd.read_csv('/content/drive/MyDrive/Imarticus/extra/data.csv')\n",
        "df_data.shape"
      ],
      "metadata": {
        "colab": {
          "base_uri": "https://localhost:8080/"
        },
        "id": "CU-YaAP2eJ_k",
        "outputId": "bebabdc4-d5a8-416b-9514-d4672bf054b0"
      },
      "execution_count": 7,
      "outputs": [
        {
          "output_type": "execute_result",
          "data": {
            "text/plain": [
              "(801, 20532)"
            ]
          },
          "metadata": {},
          "execution_count": 7
        }
      ]
    },
    {
      "cell_type": "code",
      "source": [
        "df_data.head()"
      ],
      "metadata": {
        "colab": {
          "base_uri": "https://localhost:8080/",
          "height": 317
        },
        "id": "Z5duA45DemuK",
        "outputId": "b071e8fb-b528-4421-b5e2-4f624990acbd"
      },
      "execution_count": 8,
      "outputs": [
        {
          "output_type": "execute_result",
          "data": {
            "text/plain": [
              "  Unnamed: 0  gene_0    gene_1    gene_2    gene_3     gene_4  gene_5  \\\n",
              "0   sample_0     0.0  2.017209  3.265527  5.478487  10.431999     0.0   \n",
              "1   sample_1     0.0  0.592732  1.588421  7.586157   9.623011     0.0   \n",
              "2   sample_2     0.0  3.511759  4.327199  6.881787   9.870730     0.0   \n",
              "3   sample_3     0.0  3.663618  4.507649  6.659068  10.196184     0.0   \n",
              "4   sample_4     0.0  2.655741  2.821547  6.539454   9.738265     0.0   \n",
              "\n",
              "     gene_6    gene_7  gene_8  ...  gene_20521  gene_20522  gene_20523  \\\n",
              "0  7.175175  0.591871     0.0  ...    4.926711    8.210257    9.723516   \n",
              "1  6.816049  0.000000     0.0  ...    4.593372    7.323865    9.740931   \n",
              "2  6.972130  0.452595     0.0  ...    5.125213    8.127123   10.908640   \n",
              "3  7.843375  0.434882     0.0  ...    6.076566    8.792959   10.141520   \n",
              "4  6.566967  0.360982     0.0  ...    5.996032    8.891425   10.373790   \n",
              "\n",
              "   gene_20524  gene_20525  gene_20526  gene_20527  gene_20528  gene_20529  \\\n",
              "0    7.220030    9.119813   12.003135    9.650743    8.921326    5.286759   \n",
              "1    6.256586    8.381612   12.674552   10.517059    9.397854    2.094168   \n",
              "2    5.401607    9.911597    9.045255    9.788359   10.090470    1.683023   \n",
              "3    8.942805    9.601208   11.392682    9.694814    9.684365    3.292001   \n",
              "4    7.181162    9.846910   11.922439    9.217749    9.461191    5.110372   \n",
              "\n",
              "   gene_20530  \n",
              "0         0.0  \n",
              "1         0.0  \n",
              "2         0.0  \n",
              "3         0.0  \n",
              "4         0.0  \n",
              "\n",
              "[5 rows x 20532 columns]"
            ],
            "text/html": [
              "\n",
              "  <div id=\"df-ce277dad-d9a7-4862-88bc-ae63225f9525\">\n",
              "    <div class=\"colab-df-container\">\n",
              "      <div>\n",
              "<style scoped>\n",
              "    .dataframe tbody tr th:only-of-type {\n",
              "        vertical-align: middle;\n",
              "    }\n",
              "\n",
              "    .dataframe tbody tr th {\n",
              "        vertical-align: top;\n",
              "    }\n",
              "\n",
              "    .dataframe thead th {\n",
              "        text-align: right;\n",
              "    }\n",
              "</style>\n",
              "<table border=\"1\" class=\"dataframe\">\n",
              "  <thead>\n",
              "    <tr style=\"text-align: right;\">\n",
              "      <th></th>\n",
              "      <th>Unnamed: 0</th>\n",
              "      <th>gene_0</th>\n",
              "      <th>gene_1</th>\n",
              "      <th>gene_2</th>\n",
              "      <th>gene_3</th>\n",
              "      <th>gene_4</th>\n",
              "      <th>gene_5</th>\n",
              "      <th>gene_6</th>\n",
              "      <th>gene_7</th>\n",
              "      <th>gene_8</th>\n",
              "      <th>...</th>\n",
              "      <th>gene_20521</th>\n",
              "      <th>gene_20522</th>\n",
              "      <th>gene_20523</th>\n",
              "      <th>gene_20524</th>\n",
              "      <th>gene_20525</th>\n",
              "      <th>gene_20526</th>\n",
              "      <th>gene_20527</th>\n",
              "      <th>gene_20528</th>\n",
              "      <th>gene_20529</th>\n",
              "      <th>gene_20530</th>\n",
              "    </tr>\n",
              "  </thead>\n",
              "  <tbody>\n",
              "    <tr>\n",
              "      <th>0</th>\n",
              "      <td>sample_0</td>\n",
              "      <td>0.0</td>\n",
              "      <td>2.017209</td>\n",
              "      <td>3.265527</td>\n",
              "      <td>5.478487</td>\n",
              "      <td>10.431999</td>\n",
              "      <td>0.0</td>\n",
              "      <td>7.175175</td>\n",
              "      <td>0.591871</td>\n",
              "      <td>0.0</td>\n",
              "      <td>...</td>\n",
              "      <td>4.926711</td>\n",
              "      <td>8.210257</td>\n",
              "      <td>9.723516</td>\n",
              "      <td>7.220030</td>\n",
              "      <td>9.119813</td>\n",
              "      <td>12.003135</td>\n",
              "      <td>9.650743</td>\n",
              "      <td>8.921326</td>\n",
              "      <td>5.286759</td>\n",
              "      <td>0.0</td>\n",
              "    </tr>\n",
              "    <tr>\n",
              "      <th>1</th>\n",
              "      <td>sample_1</td>\n",
              "      <td>0.0</td>\n",
              "      <td>0.592732</td>\n",
              "      <td>1.588421</td>\n",
              "      <td>7.586157</td>\n",
              "      <td>9.623011</td>\n",
              "      <td>0.0</td>\n",
              "      <td>6.816049</td>\n",
              "      <td>0.000000</td>\n",
              "      <td>0.0</td>\n",
              "      <td>...</td>\n",
              "      <td>4.593372</td>\n",
              "      <td>7.323865</td>\n",
              "      <td>9.740931</td>\n",
              "      <td>6.256586</td>\n",
              "      <td>8.381612</td>\n",
              "      <td>12.674552</td>\n",
              "      <td>10.517059</td>\n",
              "      <td>9.397854</td>\n",
              "      <td>2.094168</td>\n",
              "      <td>0.0</td>\n",
              "    </tr>\n",
              "    <tr>\n",
              "      <th>2</th>\n",
              "      <td>sample_2</td>\n",
              "      <td>0.0</td>\n",
              "      <td>3.511759</td>\n",
              "      <td>4.327199</td>\n",
              "      <td>6.881787</td>\n",
              "      <td>9.870730</td>\n",
              "      <td>0.0</td>\n",
              "      <td>6.972130</td>\n",
              "      <td>0.452595</td>\n",
              "      <td>0.0</td>\n",
              "      <td>...</td>\n",
              "      <td>5.125213</td>\n",
              "      <td>8.127123</td>\n",
              "      <td>10.908640</td>\n",
              "      <td>5.401607</td>\n",
              "      <td>9.911597</td>\n",
              "      <td>9.045255</td>\n",
              "      <td>9.788359</td>\n",
              "      <td>10.090470</td>\n",
              "      <td>1.683023</td>\n",
              "      <td>0.0</td>\n",
              "    </tr>\n",
              "    <tr>\n",
              "      <th>3</th>\n",
              "      <td>sample_3</td>\n",
              "      <td>0.0</td>\n",
              "      <td>3.663618</td>\n",
              "      <td>4.507649</td>\n",
              "      <td>6.659068</td>\n",
              "      <td>10.196184</td>\n",
              "      <td>0.0</td>\n",
              "      <td>7.843375</td>\n",
              "      <td>0.434882</td>\n",
              "      <td>0.0</td>\n",
              "      <td>...</td>\n",
              "      <td>6.076566</td>\n",
              "      <td>8.792959</td>\n",
              "      <td>10.141520</td>\n",
              "      <td>8.942805</td>\n",
              "      <td>9.601208</td>\n",
              "      <td>11.392682</td>\n",
              "      <td>9.694814</td>\n",
              "      <td>9.684365</td>\n",
              "      <td>3.292001</td>\n",
              "      <td>0.0</td>\n",
              "    </tr>\n",
              "    <tr>\n",
              "      <th>4</th>\n",
              "      <td>sample_4</td>\n",
              "      <td>0.0</td>\n",
              "      <td>2.655741</td>\n",
              "      <td>2.821547</td>\n",
              "      <td>6.539454</td>\n",
              "      <td>9.738265</td>\n",
              "      <td>0.0</td>\n",
              "      <td>6.566967</td>\n",
              "      <td>0.360982</td>\n",
              "      <td>0.0</td>\n",
              "      <td>...</td>\n",
              "      <td>5.996032</td>\n",
              "      <td>8.891425</td>\n",
              "      <td>10.373790</td>\n",
              "      <td>7.181162</td>\n",
              "      <td>9.846910</td>\n",
              "      <td>11.922439</td>\n",
              "      <td>9.217749</td>\n",
              "      <td>9.461191</td>\n",
              "      <td>5.110372</td>\n",
              "      <td>0.0</td>\n",
              "    </tr>\n",
              "  </tbody>\n",
              "</table>\n",
              "<p>5 rows × 20532 columns</p>\n",
              "</div>\n",
              "      <button class=\"colab-df-convert\" onclick=\"convertToInteractive('df-ce277dad-d9a7-4862-88bc-ae63225f9525')\"\n",
              "              title=\"Convert this dataframe to an interactive table.\"\n",
              "              style=\"display:none;\">\n",
              "        \n",
              "  <svg xmlns=\"http://www.w3.org/2000/svg\" height=\"24px\"viewBox=\"0 0 24 24\"\n",
              "       width=\"24px\">\n",
              "    <path d=\"M0 0h24v24H0V0z\" fill=\"none\"/>\n",
              "    <path d=\"M18.56 5.44l.94 2.06.94-2.06 2.06-.94-2.06-.94-.94-2.06-.94 2.06-2.06.94zm-11 1L8.5 8.5l.94-2.06 2.06-.94-2.06-.94L8.5 2.5l-.94 2.06-2.06.94zm10 10l.94 2.06.94-2.06 2.06-.94-2.06-.94-.94-2.06-.94 2.06-2.06.94z\"/><path d=\"M17.41 7.96l-1.37-1.37c-.4-.4-.92-.59-1.43-.59-.52 0-1.04.2-1.43.59L10.3 9.45l-7.72 7.72c-.78.78-.78 2.05 0 2.83L4 21.41c.39.39.9.59 1.41.59.51 0 1.02-.2 1.41-.59l7.78-7.78 2.81-2.81c.8-.78.8-2.07 0-2.86zM5.41 20L4 18.59l7.72-7.72 1.47 1.35L5.41 20z\"/>\n",
              "  </svg>\n",
              "      </button>\n",
              "      \n",
              "  <style>\n",
              "    .colab-df-container {\n",
              "      display:flex;\n",
              "      flex-wrap:wrap;\n",
              "      gap: 12px;\n",
              "    }\n",
              "\n",
              "    .colab-df-convert {\n",
              "      background-color: #E8F0FE;\n",
              "      border: none;\n",
              "      border-radius: 50%;\n",
              "      cursor: pointer;\n",
              "      display: none;\n",
              "      fill: #1967D2;\n",
              "      height: 32px;\n",
              "      padding: 0 0 0 0;\n",
              "      width: 32px;\n",
              "    }\n",
              "\n",
              "    .colab-df-convert:hover {\n",
              "      background-color: #E2EBFA;\n",
              "      box-shadow: 0px 1px 2px rgba(60, 64, 67, 0.3), 0px 1px 3px 1px rgba(60, 64, 67, 0.15);\n",
              "      fill: #174EA6;\n",
              "    }\n",
              "\n",
              "    [theme=dark] .colab-df-convert {\n",
              "      background-color: #3B4455;\n",
              "      fill: #D2E3FC;\n",
              "    }\n",
              "\n",
              "    [theme=dark] .colab-df-convert:hover {\n",
              "      background-color: #434B5C;\n",
              "      box-shadow: 0px 1px 3px 1px rgba(0, 0, 0, 0.15);\n",
              "      filter: drop-shadow(0px 1px 2px rgba(0, 0, 0, 0.3));\n",
              "      fill: #FFFFFF;\n",
              "    }\n",
              "  </style>\n",
              "\n",
              "      <script>\n",
              "        const buttonEl =\n",
              "          document.querySelector('#df-ce277dad-d9a7-4862-88bc-ae63225f9525 button.colab-df-convert');\n",
              "        buttonEl.style.display =\n",
              "          google.colab.kernel.accessAllowed ? 'block' : 'none';\n",
              "\n",
              "        async function convertToInteractive(key) {\n",
              "          const element = document.querySelector('#df-ce277dad-d9a7-4862-88bc-ae63225f9525');\n",
              "          const dataTable =\n",
              "            await google.colab.kernel.invokeFunction('convertToInteractive',\n",
              "                                                     [key], {});\n",
              "          if (!dataTable) return;\n",
              "\n",
              "          const docLinkHtml = 'Like what you see? Visit the ' +\n",
              "            '<a target=\"_blank\" href=https://colab.research.google.com/notebooks/data_table.ipynb>data table notebook</a>'\n",
              "            + ' to learn more about interactive tables.';\n",
              "          element.innerHTML = '';\n",
              "          dataTable['output_type'] = 'display_data';\n",
              "          await google.colab.output.renderOutput(dataTable, element);\n",
              "          const docLink = document.createElement('div');\n",
              "          docLink.innerHTML = docLinkHtml;\n",
              "          element.appendChild(docLink);\n",
              "        }\n",
              "      </script>\n",
              "    </div>\n",
              "  </div>\n",
              "  "
            ]
          },
          "metadata": {},
          "execution_count": 8
        }
      ]
    },
    {
      "cell_type": "code",
      "source": [
        "df_labels=pd.read_csv('/content/drive/MyDrive/Imarticus/extra/labels.csv')\n",
        "df_labels.head()"
      ],
      "metadata": {
        "colab": {
          "base_uri": "https://localhost:8080/",
          "height": 206
        },
        "id": "rsnTbL66esuq",
        "outputId": "4ca7d533-9810-49ac-8a3b-4106ab19bf6e"
      },
      "execution_count": 9,
      "outputs": [
        {
          "output_type": "execute_result",
          "data": {
            "text/plain": [
              "  Unnamed: 0 Class\n",
              "0   sample_0  PRAD\n",
              "1   sample_1  LUAD\n",
              "2   sample_2  PRAD\n",
              "3   sample_3  PRAD\n",
              "4   sample_4  BRCA"
            ],
            "text/html": [
              "\n",
              "  <div id=\"df-cc098f71-d29a-4e2c-9d14-c4fb96b6b10e\">\n",
              "    <div class=\"colab-df-container\">\n",
              "      <div>\n",
              "<style scoped>\n",
              "    .dataframe tbody tr th:only-of-type {\n",
              "        vertical-align: middle;\n",
              "    }\n",
              "\n",
              "    .dataframe tbody tr th {\n",
              "        vertical-align: top;\n",
              "    }\n",
              "\n",
              "    .dataframe thead th {\n",
              "        text-align: right;\n",
              "    }\n",
              "</style>\n",
              "<table border=\"1\" class=\"dataframe\">\n",
              "  <thead>\n",
              "    <tr style=\"text-align: right;\">\n",
              "      <th></th>\n",
              "      <th>Unnamed: 0</th>\n",
              "      <th>Class</th>\n",
              "    </tr>\n",
              "  </thead>\n",
              "  <tbody>\n",
              "    <tr>\n",
              "      <th>0</th>\n",
              "      <td>sample_0</td>\n",
              "      <td>PRAD</td>\n",
              "    </tr>\n",
              "    <tr>\n",
              "      <th>1</th>\n",
              "      <td>sample_1</td>\n",
              "      <td>LUAD</td>\n",
              "    </tr>\n",
              "    <tr>\n",
              "      <th>2</th>\n",
              "      <td>sample_2</td>\n",
              "      <td>PRAD</td>\n",
              "    </tr>\n",
              "    <tr>\n",
              "      <th>3</th>\n",
              "      <td>sample_3</td>\n",
              "      <td>PRAD</td>\n",
              "    </tr>\n",
              "    <tr>\n",
              "      <th>4</th>\n",
              "      <td>sample_4</td>\n",
              "      <td>BRCA</td>\n",
              "    </tr>\n",
              "  </tbody>\n",
              "</table>\n",
              "</div>\n",
              "      <button class=\"colab-df-convert\" onclick=\"convertToInteractive('df-cc098f71-d29a-4e2c-9d14-c4fb96b6b10e')\"\n",
              "              title=\"Convert this dataframe to an interactive table.\"\n",
              "              style=\"display:none;\">\n",
              "        \n",
              "  <svg xmlns=\"http://www.w3.org/2000/svg\" height=\"24px\"viewBox=\"0 0 24 24\"\n",
              "       width=\"24px\">\n",
              "    <path d=\"M0 0h24v24H0V0z\" fill=\"none\"/>\n",
              "    <path d=\"M18.56 5.44l.94 2.06.94-2.06 2.06-.94-2.06-.94-.94-2.06-.94 2.06-2.06.94zm-11 1L8.5 8.5l.94-2.06 2.06-.94-2.06-.94L8.5 2.5l-.94 2.06-2.06.94zm10 10l.94 2.06.94-2.06 2.06-.94-2.06-.94-.94-2.06-.94 2.06-2.06.94z\"/><path d=\"M17.41 7.96l-1.37-1.37c-.4-.4-.92-.59-1.43-.59-.52 0-1.04.2-1.43.59L10.3 9.45l-7.72 7.72c-.78.78-.78 2.05 0 2.83L4 21.41c.39.39.9.59 1.41.59.51 0 1.02-.2 1.41-.59l7.78-7.78 2.81-2.81c.8-.78.8-2.07 0-2.86zM5.41 20L4 18.59l7.72-7.72 1.47 1.35L5.41 20z\"/>\n",
              "  </svg>\n",
              "      </button>\n",
              "      \n",
              "  <style>\n",
              "    .colab-df-container {\n",
              "      display:flex;\n",
              "      flex-wrap:wrap;\n",
              "      gap: 12px;\n",
              "    }\n",
              "\n",
              "    .colab-df-convert {\n",
              "      background-color: #E8F0FE;\n",
              "      border: none;\n",
              "      border-radius: 50%;\n",
              "      cursor: pointer;\n",
              "      display: none;\n",
              "      fill: #1967D2;\n",
              "      height: 32px;\n",
              "      padding: 0 0 0 0;\n",
              "      width: 32px;\n",
              "    }\n",
              "\n",
              "    .colab-df-convert:hover {\n",
              "      background-color: #E2EBFA;\n",
              "      box-shadow: 0px 1px 2px rgba(60, 64, 67, 0.3), 0px 1px 3px 1px rgba(60, 64, 67, 0.15);\n",
              "      fill: #174EA6;\n",
              "    }\n",
              "\n",
              "    [theme=dark] .colab-df-convert {\n",
              "      background-color: #3B4455;\n",
              "      fill: #D2E3FC;\n",
              "    }\n",
              "\n",
              "    [theme=dark] .colab-df-convert:hover {\n",
              "      background-color: #434B5C;\n",
              "      box-shadow: 0px 1px 3px 1px rgba(0, 0, 0, 0.15);\n",
              "      filter: drop-shadow(0px 1px 2px rgba(0, 0, 0, 0.3));\n",
              "      fill: #FFFFFF;\n",
              "    }\n",
              "  </style>\n",
              "\n",
              "      <script>\n",
              "        const buttonEl =\n",
              "          document.querySelector('#df-cc098f71-d29a-4e2c-9d14-c4fb96b6b10e button.colab-df-convert');\n",
              "        buttonEl.style.display =\n",
              "          google.colab.kernel.accessAllowed ? 'block' : 'none';\n",
              "\n",
              "        async function convertToInteractive(key) {\n",
              "          const element = document.querySelector('#df-cc098f71-d29a-4e2c-9d14-c4fb96b6b10e');\n",
              "          const dataTable =\n",
              "            await google.colab.kernel.invokeFunction('convertToInteractive',\n",
              "                                                     [key], {});\n",
              "          if (!dataTable) return;\n",
              "\n",
              "          const docLinkHtml = 'Like what you see? Visit the ' +\n",
              "            '<a target=\"_blank\" href=https://colab.research.google.com/notebooks/data_table.ipynb>data table notebook</a>'\n",
              "            + ' to learn more about interactive tables.';\n",
              "          element.innerHTML = '';\n",
              "          dataTable['output_type'] = 'display_data';\n",
              "          await google.colab.output.renderOutput(dataTable, element);\n",
              "          const docLink = document.createElement('div');\n",
              "          docLink.innerHTML = docLinkHtml;\n",
              "          element.appendChild(docLink);\n",
              "        }\n",
              "      </script>\n",
              "    </div>\n",
              "  </div>\n",
              "  "
            ]
          },
          "metadata": {},
          "execution_count": 9
        }
      ]
    },
    {
      "cell_type": "markdown",
      "source": [
        "Let's merge both the datasets so that we can add target column to our dataset"
      ],
      "metadata": {
        "id": "pRjijR22fAs9"
      }
    },
    {
      "cell_type": "code",
      "source": [
        "df=df_data.merge(df_labels,on='Unnamed: 0',how='inner')"
      ],
      "metadata": {
        "id": "c7y4CLGne5to"
      },
      "execution_count": 10,
      "outputs": []
    },
    {
      "cell_type": "code",
      "source": [
        "df.shape"
      ],
      "metadata": {
        "colab": {
          "base_uri": "https://localhost:8080/"
        },
        "id": "hnEYte7lfYdw",
        "outputId": "59cc1895-b7f5-43fe-abcb-38e6df794506"
      },
      "execution_count": 11,
      "outputs": [
        {
          "output_type": "execute_result",
          "data": {
            "text/plain": [
              "(801, 20533)"
            ]
          },
          "metadata": {},
          "execution_count": 11
        }
      ]
    },
    {
      "cell_type": "code",
      "source": [
        "df.head()"
      ],
      "metadata": {
        "colab": {
          "base_uri": "https://localhost:8080/",
          "height": 317
        },
        "id": "INm68L0JftV8",
        "outputId": "471172d8-fdaa-4974-ccc0-1370d303779e"
      },
      "execution_count": 12,
      "outputs": [
        {
          "output_type": "execute_result",
          "data": {
            "text/plain": [
              "  Unnamed: 0  gene_0    gene_1    gene_2    gene_3     gene_4  gene_5  \\\n",
              "0   sample_0     0.0  2.017209  3.265527  5.478487  10.431999     0.0   \n",
              "1   sample_1     0.0  0.592732  1.588421  7.586157   9.623011     0.0   \n",
              "2   sample_2     0.0  3.511759  4.327199  6.881787   9.870730     0.0   \n",
              "3   sample_3     0.0  3.663618  4.507649  6.659068  10.196184     0.0   \n",
              "4   sample_4     0.0  2.655741  2.821547  6.539454   9.738265     0.0   \n",
              "\n",
              "     gene_6    gene_7  gene_8  ...  gene_20522  gene_20523  gene_20524  \\\n",
              "0  7.175175  0.591871     0.0  ...    8.210257    9.723516    7.220030   \n",
              "1  6.816049  0.000000     0.0  ...    7.323865    9.740931    6.256586   \n",
              "2  6.972130  0.452595     0.0  ...    8.127123   10.908640    5.401607   \n",
              "3  7.843375  0.434882     0.0  ...    8.792959   10.141520    8.942805   \n",
              "4  6.566967  0.360982     0.0  ...    8.891425   10.373790    7.181162   \n",
              "\n",
              "   gene_20525  gene_20526  gene_20527  gene_20528  gene_20529  gene_20530  \\\n",
              "0    9.119813   12.003135    9.650743    8.921326    5.286759         0.0   \n",
              "1    8.381612   12.674552   10.517059    9.397854    2.094168         0.0   \n",
              "2    9.911597    9.045255    9.788359   10.090470    1.683023         0.0   \n",
              "3    9.601208   11.392682    9.694814    9.684365    3.292001         0.0   \n",
              "4    9.846910   11.922439    9.217749    9.461191    5.110372         0.0   \n",
              "\n",
              "   Class  \n",
              "0   PRAD  \n",
              "1   LUAD  \n",
              "2   PRAD  \n",
              "3   PRAD  \n",
              "4   BRCA  \n",
              "\n",
              "[5 rows x 20533 columns]"
            ],
            "text/html": [
              "\n",
              "  <div id=\"df-d6363c89-e5f8-4111-96c2-97de030a0f41\">\n",
              "    <div class=\"colab-df-container\">\n",
              "      <div>\n",
              "<style scoped>\n",
              "    .dataframe tbody tr th:only-of-type {\n",
              "        vertical-align: middle;\n",
              "    }\n",
              "\n",
              "    .dataframe tbody tr th {\n",
              "        vertical-align: top;\n",
              "    }\n",
              "\n",
              "    .dataframe thead th {\n",
              "        text-align: right;\n",
              "    }\n",
              "</style>\n",
              "<table border=\"1\" class=\"dataframe\">\n",
              "  <thead>\n",
              "    <tr style=\"text-align: right;\">\n",
              "      <th></th>\n",
              "      <th>Unnamed: 0</th>\n",
              "      <th>gene_0</th>\n",
              "      <th>gene_1</th>\n",
              "      <th>gene_2</th>\n",
              "      <th>gene_3</th>\n",
              "      <th>gene_4</th>\n",
              "      <th>gene_5</th>\n",
              "      <th>gene_6</th>\n",
              "      <th>gene_7</th>\n",
              "      <th>gene_8</th>\n",
              "      <th>...</th>\n",
              "      <th>gene_20522</th>\n",
              "      <th>gene_20523</th>\n",
              "      <th>gene_20524</th>\n",
              "      <th>gene_20525</th>\n",
              "      <th>gene_20526</th>\n",
              "      <th>gene_20527</th>\n",
              "      <th>gene_20528</th>\n",
              "      <th>gene_20529</th>\n",
              "      <th>gene_20530</th>\n",
              "      <th>Class</th>\n",
              "    </tr>\n",
              "  </thead>\n",
              "  <tbody>\n",
              "    <tr>\n",
              "      <th>0</th>\n",
              "      <td>sample_0</td>\n",
              "      <td>0.0</td>\n",
              "      <td>2.017209</td>\n",
              "      <td>3.265527</td>\n",
              "      <td>5.478487</td>\n",
              "      <td>10.431999</td>\n",
              "      <td>0.0</td>\n",
              "      <td>7.175175</td>\n",
              "      <td>0.591871</td>\n",
              "      <td>0.0</td>\n",
              "      <td>...</td>\n",
              "      <td>8.210257</td>\n",
              "      <td>9.723516</td>\n",
              "      <td>7.220030</td>\n",
              "      <td>9.119813</td>\n",
              "      <td>12.003135</td>\n",
              "      <td>9.650743</td>\n",
              "      <td>8.921326</td>\n",
              "      <td>5.286759</td>\n",
              "      <td>0.0</td>\n",
              "      <td>PRAD</td>\n",
              "    </tr>\n",
              "    <tr>\n",
              "      <th>1</th>\n",
              "      <td>sample_1</td>\n",
              "      <td>0.0</td>\n",
              "      <td>0.592732</td>\n",
              "      <td>1.588421</td>\n",
              "      <td>7.586157</td>\n",
              "      <td>9.623011</td>\n",
              "      <td>0.0</td>\n",
              "      <td>6.816049</td>\n",
              "      <td>0.000000</td>\n",
              "      <td>0.0</td>\n",
              "      <td>...</td>\n",
              "      <td>7.323865</td>\n",
              "      <td>9.740931</td>\n",
              "      <td>6.256586</td>\n",
              "      <td>8.381612</td>\n",
              "      <td>12.674552</td>\n",
              "      <td>10.517059</td>\n",
              "      <td>9.397854</td>\n",
              "      <td>2.094168</td>\n",
              "      <td>0.0</td>\n",
              "      <td>LUAD</td>\n",
              "    </tr>\n",
              "    <tr>\n",
              "      <th>2</th>\n",
              "      <td>sample_2</td>\n",
              "      <td>0.0</td>\n",
              "      <td>3.511759</td>\n",
              "      <td>4.327199</td>\n",
              "      <td>6.881787</td>\n",
              "      <td>9.870730</td>\n",
              "      <td>0.0</td>\n",
              "      <td>6.972130</td>\n",
              "      <td>0.452595</td>\n",
              "      <td>0.0</td>\n",
              "      <td>...</td>\n",
              "      <td>8.127123</td>\n",
              "      <td>10.908640</td>\n",
              "      <td>5.401607</td>\n",
              "      <td>9.911597</td>\n",
              "      <td>9.045255</td>\n",
              "      <td>9.788359</td>\n",
              "      <td>10.090470</td>\n",
              "      <td>1.683023</td>\n",
              "      <td>0.0</td>\n",
              "      <td>PRAD</td>\n",
              "    </tr>\n",
              "    <tr>\n",
              "      <th>3</th>\n",
              "      <td>sample_3</td>\n",
              "      <td>0.0</td>\n",
              "      <td>3.663618</td>\n",
              "      <td>4.507649</td>\n",
              "      <td>6.659068</td>\n",
              "      <td>10.196184</td>\n",
              "      <td>0.0</td>\n",
              "      <td>7.843375</td>\n",
              "      <td>0.434882</td>\n",
              "      <td>0.0</td>\n",
              "      <td>...</td>\n",
              "      <td>8.792959</td>\n",
              "      <td>10.141520</td>\n",
              "      <td>8.942805</td>\n",
              "      <td>9.601208</td>\n",
              "      <td>11.392682</td>\n",
              "      <td>9.694814</td>\n",
              "      <td>9.684365</td>\n",
              "      <td>3.292001</td>\n",
              "      <td>0.0</td>\n",
              "      <td>PRAD</td>\n",
              "    </tr>\n",
              "    <tr>\n",
              "      <th>4</th>\n",
              "      <td>sample_4</td>\n",
              "      <td>0.0</td>\n",
              "      <td>2.655741</td>\n",
              "      <td>2.821547</td>\n",
              "      <td>6.539454</td>\n",
              "      <td>9.738265</td>\n",
              "      <td>0.0</td>\n",
              "      <td>6.566967</td>\n",
              "      <td>0.360982</td>\n",
              "      <td>0.0</td>\n",
              "      <td>...</td>\n",
              "      <td>8.891425</td>\n",
              "      <td>10.373790</td>\n",
              "      <td>7.181162</td>\n",
              "      <td>9.846910</td>\n",
              "      <td>11.922439</td>\n",
              "      <td>9.217749</td>\n",
              "      <td>9.461191</td>\n",
              "      <td>5.110372</td>\n",
              "      <td>0.0</td>\n",
              "      <td>BRCA</td>\n",
              "    </tr>\n",
              "  </tbody>\n",
              "</table>\n",
              "<p>5 rows × 20533 columns</p>\n",
              "</div>\n",
              "      <button class=\"colab-df-convert\" onclick=\"convertToInteractive('df-d6363c89-e5f8-4111-96c2-97de030a0f41')\"\n",
              "              title=\"Convert this dataframe to an interactive table.\"\n",
              "              style=\"display:none;\">\n",
              "        \n",
              "  <svg xmlns=\"http://www.w3.org/2000/svg\" height=\"24px\"viewBox=\"0 0 24 24\"\n",
              "       width=\"24px\">\n",
              "    <path d=\"M0 0h24v24H0V0z\" fill=\"none\"/>\n",
              "    <path d=\"M18.56 5.44l.94 2.06.94-2.06 2.06-.94-2.06-.94-.94-2.06-.94 2.06-2.06.94zm-11 1L8.5 8.5l.94-2.06 2.06-.94-2.06-.94L8.5 2.5l-.94 2.06-2.06.94zm10 10l.94 2.06.94-2.06 2.06-.94-2.06-.94-.94-2.06-.94 2.06-2.06.94z\"/><path d=\"M17.41 7.96l-1.37-1.37c-.4-.4-.92-.59-1.43-.59-.52 0-1.04.2-1.43.59L10.3 9.45l-7.72 7.72c-.78.78-.78 2.05 0 2.83L4 21.41c.39.39.9.59 1.41.59.51 0 1.02-.2 1.41-.59l7.78-7.78 2.81-2.81c.8-.78.8-2.07 0-2.86zM5.41 20L4 18.59l7.72-7.72 1.47 1.35L5.41 20z\"/>\n",
              "  </svg>\n",
              "      </button>\n",
              "      \n",
              "  <style>\n",
              "    .colab-df-container {\n",
              "      display:flex;\n",
              "      flex-wrap:wrap;\n",
              "      gap: 12px;\n",
              "    }\n",
              "\n",
              "    .colab-df-convert {\n",
              "      background-color: #E8F0FE;\n",
              "      border: none;\n",
              "      border-radius: 50%;\n",
              "      cursor: pointer;\n",
              "      display: none;\n",
              "      fill: #1967D2;\n",
              "      height: 32px;\n",
              "      padding: 0 0 0 0;\n",
              "      width: 32px;\n",
              "    }\n",
              "\n",
              "    .colab-df-convert:hover {\n",
              "      background-color: #E2EBFA;\n",
              "      box-shadow: 0px 1px 2px rgba(60, 64, 67, 0.3), 0px 1px 3px 1px rgba(60, 64, 67, 0.15);\n",
              "      fill: #174EA6;\n",
              "    }\n",
              "\n",
              "    [theme=dark] .colab-df-convert {\n",
              "      background-color: #3B4455;\n",
              "      fill: #D2E3FC;\n",
              "    }\n",
              "\n",
              "    [theme=dark] .colab-df-convert:hover {\n",
              "      background-color: #434B5C;\n",
              "      box-shadow: 0px 1px 3px 1px rgba(0, 0, 0, 0.15);\n",
              "      filter: drop-shadow(0px 1px 2px rgba(0, 0, 0, 0.3));\n",
              "      fill: #FFFFFF;\n",
              "    }\n",
              "  </style>\n",
              "\n",
              "      <script>\n",
              "        const buttonEl =\n",
              "          document.querySelector('#df-d6363c89-e5f8-4111-96c2-97de030a0f41 button.colab-df-convert');\n",
              "        buttonEl.style.display =\n",
              "          google.colab.kernel.accessAllowed ? 'block' : 'none';\n",
              "\n",
              "        async function convertToInteractive(key) {\n",
              "          const element = document.querySelector('#df-d6363c89-e5f8-4111-96c2-97de030a0f41');\n",
              "          const dataTable =\n",
              "            await google.colab.kernel.invokeFunction('convertToInteractive',\n",
              "                                                     [key], {});\n",
              "          if (!dataTable) return;\n",
              "\n",
              "          const docLinkHtml = 'Like what you see? Visit the ' +\n",
              "            '<a target=\"_blank\" href=https://colab.research.google.com/notebooks/data_table.ipynb>data table notebook</a>'\n",
              "            + ' to learn more about interactive tables.';\n",
              "          element.innerHTML = '';\n",
              "          dataTable['output_type'] = 'display_data';\n",
              "          await google.colab.output.renderOutput(dataTable, element);\n",
              "          const docLink = document.createElement('div');\n",
              "          docLink.innerHTML = docLinkHtml;\n",
              "          element.appendChild(docLink);\n",
              "        }\n",
              "      </script>\n",
              "    </div>\n",
              "  </div>\n",
              "  "
            ]
          },
          "metadata": {},
          "execution_count": 12
        }
      ]
    },
    {
      "cell_type": "code",
      "source": [
        "#Renaming the Unnamed: 0 as Sample"
      ],
      "metadata": {
        "id": "F2tlBsWHgldz"
      },
      "execution_count": 13,
      "outputs": []
    },
    {
      "cell_type": "code",
      "source": [
        "df=df.rename(columns={'Unnamed: 0':'Sample'})"
      ],
      "metadata": {
        "id": "pF1P0m9OgzHs"
      },
      "execution_count": 14,
      "outputs": []
    },
    {
      "cell_type": "code",
      "source": [
        "#String split to get the sample nos"
      ],
      "metadata": {
        "id": "3FJs21dQhUp0"
      },
      "execution_count": 15,
      "outputs": []
    },
    {
      "cell_type": "code",
      "source": [
        "def str_split(x):\n",
        "    return re.findall('(\\d+|[A-Za-z_]+)',x)"
      ],
      "metadata": {
        "id": "OrRr6iJXhUtM"
      },
      "execution_count": 16,
      "outputs": []
    },
    {
      "cell_type": "code",
      "source": [
        "df['Sample']=df['Sample'].apply(lambda x:str_split(x)).apply(lambda x:int(x[-1]))"
      ],
      "metadata": {
        "id": "IrefOsmshpgK"
      },
      "execution_count": 17,
      "outputs": []
    },
    {
      "cell_type": "code",
      "source": [
        "#Plotting a hierarchically clustered heatmap"
      ],
      "metadata": {
        "id": "0AAahseofz07"
      },
      "execution_count": 18,
      "outputs": []
    },
    {
      "cell_type": "code",
      "source": [
        "#pip install fastcluster"
      ],
      "metadata": {
        "id": "l2Kutq8IyoNc"
      },
      "execution_count": 19,
      "outputs": []
    },
    {
      "cell_type": "code",
      "source": [
        "df1=df.copy(deep=True)"
      ],
      "metadata": {
        "id": "8pi7YnIK1BcG"
      },
      "execution_count": 20,
      "outputs": []
    },
    {
      "cell_type": "code",
      "source": [
        "le=LabelEncoder()\n",
        "\n",
        "df1['Class']=le.fit_transform(df1['Class'])"
      ],
      "metadata": {
        "id": "yPeA_IU30z5i"
      },
      "execution_count": 21,
      "outputs": []
    },
    {
      "cell_type": "code",
      "source": [
        "import fastcluster"
      ],
      "metadata": {
        "id": "Ts1fxTQ4xWqi",
        "colab": {
          "base_uri": "https://localhost:8080/",
          "height": 314
        },
        "outputId": "7755f1ec-dfb2-4953-c17b-c640f35f19a5"
      },
      "execution_count": 22,
      "outputs": [
        {
          "output_type": "error",
          "ename": "ModuleNotFoundError",
          "evalue": "ignored",
          "traceback": [
            "\u001b[0;31m---------------------------------------------------------------------------\u001b[0m",
            "\u001b[0;31mModuleNotFoundError\u001b[0m                       Traceback (most recent call last)",
            "\u001b[0;32m<ipython-input-22-3bb9be6c9588>\u001b[0m in \u001b[0;36m<module>\u001b[0;34m\u001b[0m\n\u001b[0;32m----> 1\u001b[0;31m \u001b[0;32mimport\u001b[0m \u001b[0mfastcluster\u001b[0m\u001b[0;34m\u001b[0m\u001b[0;34m\u001b[0m\u001b[0m\n\u001b[0m",
            "\u001b[0;31mModuleNotFoundError\u001b[0m: No module named 'fastcluster'",
            "",
            "\u001b[0;31m---------------------------------------------------------------------------\u001b[0;32m\nNOTE: If your import is failing due to a missing package, you can\nmanually install dependencies using either !pip or !apt.\n\nTo view examples of installing some common dependencies, click the\n\"Open Examples\" button below.\n\u001b[0;31m---------------------------------------------------------------------------\u001b[0m\n"
          ],
          "errorDetails": {
            "actions": [
              {
                "action": "open_url",
                "actionText": "Open Examples",
                "url": "/notebooks/snippets/importing_libraries.ipynb"
              }
            ]
          }
        }
      ]
    },
    {
      "cell_type": "code",
      "source": [
        "X=fastcluster.linkage (df1, method='single', metric='euclidean', preserve_input='True')"
      ],
      "metadata": {
        "id": "Hzy54gR7ylXg",
        "colab": {
          "base_uri": "https://localhost:8080/",
          "height": 169
        },
        "outputId": "ada77a99-77be-403e-ba49-2bd9dc016de9"
      },
      "execution_count": 23,
      "outputs": [
        {
          "output_type": "error",
          "ename": "NameError",
          "evalue": "ignored",
          "traceback": [
            "\u001b[0;31m---------------------------------------------------------------------------\u001b[0m",
            "\u001b[0;31mNameError\u001b[0m                                 Traceback (most recent call last)",
            "\u001b[0;32m<ipython-input-23-3ba5c2550653>\u001b[0m in \u001b[0;36m<module>\u001b[0;34m\u001b[0m\n\u001b[0;32m----> 1\u001b[0;31m \u001b[0mX\u001b[0m\u001b[0;34m=\u001b[0m\u001b[0mfastcluster\u001b[0m\u001b[0;34m.\u001b[0m\u001b[0mlinkage\u001b[0m \u001b[0;34m(\u001b[0m\u001b[0mdf1\u001b[0m\u001b[0;34m,\u001b[0m \u001b[0mmethod\u001b[0m\u001b[0;34m=\u001b[0m\u001b[0;34m'single'\u001b[0m\u001b[0;34m,\u001b[0m \u001b[0mmetric\u001b[0m\u001b[0;34m=\u001b[0m\u001b[0;34m'euclidean'\u001b[0m\u001b[0;34m,\u001b[0m \u001b[0mpreserve_input\u001b[0m\u001b[0;34m=\u001b[0m\u001b[0;34m'True'\u001b[0m\u001b[0;34m)\u001b[0m\u001b[0;34m\u001b[0m\u001b[0;34m\u001b[0m\u001b[0m\n\u001b[0m",
            "\u001b[0;31mNameError\u001b[0m: name 'fastcluster' is not defined"
          ]
        }
      ]
    },
    {
      "cell_type": "code",
      "source": [
        "sns.clustermap(X)"
      ],
      "metadata": {
        "colab": {
          "base_uri": "https://localhost:8080/",
          "height": 747
        },
        "id": "kcCto2AUy0T6",
        "outputId": "467ba053-e46f-40ea-ea65-37e0a13890ec"
      },
      "execution_count": null,
      "outputs": [
        {
          "output_type": "execute_result",
          "data": {
            "text/plain": [
              "<seaborn.matrix.ClusterGrid at 0x7f992bbf8760>"
            ]
          },
          "metadata": {},
          "execution_count": 93
        },
        {
          "output_type": "display_data",
          "data": {
            "text/plain": [
              "<Figure size 720x720 with 4 Axes>"
            ],
            "image/png": "[encoded data removed]"
          },
          "metadata": {
            "needs_background": "light"
          }
        }
      ]
    },
    {
      "cell_type": "code",
      "source": [
        "df1.Class.value_counts()"
      ],
      "metadata": {
        "colab": {
          "base_uri": "https://localhost:8080/"
        },
        "id": "6-vliConzXYZ",
        "outputId": "343f030f-957c-430f-8f92-28c65ff7e15c"
      },
      "execution_count": 24,
      "outputs": [
        {
          "output_type": "execute_result",
          "data": {
            "text/plain": [
              "0    300\n",
              "2    146\n",
              "3    141\n",
              "4    136\n",
              "1     78\n",
              "Name: Class, dtype: int64"
            ]
          },
          "metadata": {},
          "execution_count": 24
        }
      ]
    },
    {
      "cell_type": "code",
      "source": [
        "df2=df1.copy(deep=True)"
      ],
      "metadata": {
        "id": "h3UslXhh0W08"
      },
      "execution_count": 25,
      "outputs": []
    },
    {
      "cell_type": "code",
      "source": [
        "df2 = df2.sample(n=10,axis='columns')"
      ],
      "metadata": {
        "id": "6JDwsAJF1rQ9"
      },
      "execution_count": 26,
      "outputs": []
    },
    {
      "cell_type": "code",
      "source": [
        "df2.shape"
      ],
      "metadata": {
        "colab": {
          "base_uri": "https://localhost:8080/"
        },
        "id": "EfJQsvId2cD-",
        "outputId": "a3cb482e-7468-4a78-b30c-577ff3251b6e"
      },
      "execution_count": 27,
      "outputs": [
        {
          "output_type": "execute_result",
          "data": {
            "text/plain": [
              "(801, 10)"
            ]
          },
          "metadata": {},
          "execution_count": 27
        }
      ]
    },
    {
      "cell_type": "code",
      "source": [
        "df2.head()"
      ],
      "metadata": {
        "colab": {
          "base_uri": "https://localhost:8080/",
          "height": 206
        },
        "id": "_-uuURON2dcD",
        "outputId": "5ffdc8d0-8f3f-4bd4-ffd4-27111661e19b"
      },
      "execution_count": 28,
      "outputs": [
        {
          "output_type": "execute_result",
          "data": {
            "text/plain": [
              "   gene_7054  gene_8329  gene_3674  gene_8158  gene_11784  gene_16630  \\\n",
              "0   2.824951   0.591871   9.924363   0.591871   10.929258    1.334282   \n",
              "1   5.652455   4.330264   9.195490   0.000000    8.957854    0.000000   \n",
              "2   4.042355   0.796598   8.864307   0.000000    9.543214    0.000000   \n",
              "3   4.270013   0.000000   9.637981   0.000000   11.386245    0.000000   \n",
              "4   4.345574   4.365609   7.773159   1.036890   11.584963    0.000000   \n",
              "\n",
              "   gene_9583  gene_9555  gene_13432  gene_5547  \n",
              "0  10.492164   0.000000    3.188164   9.167672  \n",
              "1  10.134182   2.399417    7.287168   9.395161  \n",
              "2   9.960972   0.000000    3.299230   9.252079  \n",
              "3  11.895109   0.000000    3.485672   8.418848  \n",
              "4  12.083429   1.831269    4.443070   9.244366  "
            ],
            "text/html": [
              "\n",
              "  <div id=\"df-5e1f5122-5674-4f86-907d-7a5b62b68556\">\n",
              "    <div class=\"colab-df-container\">\n",
              "      <div>\n",
              "<style scoped>\n",
              "    .dataframe tbody tr th:only-of-type {\n",
              "        vertical-align: middle;\n",
              "    }\n",
              "\n",
              "    .dataframe tbody tr th {\n",
              "        vertical-align: top;\n",
              "    }\n",
              "\n",
              "    .dataframe thead th {\n",
              "        text-align: right;\n",
              "    }\n",
              "</style>\n",
              "<table border=\"1\" class=\"dataframe\">\n",
              "  <thead>\n",
              "    <tr style=\"text-align: right;\">\n",
              "      <th></th>\n",
              "      <th>gene_7054</th>\n",
              "      <th>gene_8329</th>\n",
              "      <th>gene_3674</th>\n",
              "      <th>gene_8158</th>\n",
              "      <th>gene_11784</th>\n",
              "      <th>gene_16630</th>\n",
              "      <th>gene_9583</th>\n",
              "      <th>gene_9555</th>\n",
              "      <th>gene_13432</th>\n",
              "      <th>gene_5547</th>\n",
              "    </tr>\n",
              "  </thead>\n",
              "  <tbody>\n",
              "    <tr>\n",
              "      <th>0</th>\n",
              "      <td>2.824951</td>\n",
              "      <td>0.591871</td>\n",
              "      <td>9.924363</td>\n",
              "      <td>0.591871</td>\n",
              "      <td>10.929258</td>\n",
              "      <td>1.334282</td>\n",
              "      <td>10.492164</td>\n",
              "      <td>0.000000</td>\n",
              "      <td>3.188164</td>\n",
              "      <td>9.167672</td>\n",
              "    </tr>\n",
              "    <tr>\n",
              "      <th>1</th>\n",
              "      <td>5.652455</td>\n",
              "      <td>4.330264</td>\n",
              "      <td>9.195490</td>\n",
              "      <td>0.000000</td>\n",
              "      <td>8.957854</td>\n",
              "      <td>0.000000</td>\n",
              "      <td>10.134182</td>\n",
              "      <td>2.399417</td>\n",
              "      <td>7.287168</td>\n",
              "      <td>9.395161</td>\n",
              "    </tr>\n",
              "    <tr>\n",
              "      <th>2</th>\n",
              "      <td>4.042355</td>\n",
              "      <td>0.796598</td>\n",
              "      <td>8.864307</td>\n",
              "      <td>0.000000</td>\n",
              "      <td>9.543214</td>\n",
              "      <td>0.000000</td>\n",
              "      <td>9.960972</td>\n",
              "      <td>0.000000</td>\n",
              "      <td>3.299230</td>\n",
              "      <td>9.252079</td>\n",
              "    </tr>\n",
              "    <tr>\n",
              "      <th>3</th>\n",
              "      <td>4.270013</td>\n",
              "      <td>0.000000</td>\n",
              "      <td>9.637981</td>\n",
              "      <td>0.000000</td>\n",
              "      <td>11.386245</td>\n",
              "      <td>0.000000</td>\n",
              "      <td>11.895109</td>\n",
              "      <td>0.000000</td>\n",
              "      <td>3.485672</td>\n",
              "      <td>8.418848</td>\n",
              "    </tr>\n",
              "    <tr>\n",
              "      <th>4</th>\n",
              "      <td>4.345574</td>\n",
              "      <td>4.365609</td>\n",
              "      <td>7.773159</td>\n",
              "      <td>1.036890</td>\n",
              "      <td>11.584963</td>\n",
              "      <td>0.000000</td>\n",
              "      <td>12.083429</td>\n",
              "      <td>1.831269</td>\n",
              "      <td>4.443070</td>\n",
              "      <td>9.244366</td>\n",
              "    </tr>\n",
              "  </tbody>\n",
              "</table>\n",
              "</div>\n",
              "      <button class=\"colab-df-convert\" onclick=\"convertToInteractive('df-5e1f5122-5674-4f86-907d-7a5b62b68556')\"\n",
              "              title=\"Convert this dataframe to an interactive table.\"\n",
              "              style=\"display:none;\">\n",
              "        \n",
              "  <svg xmlns=\"http://www.w3.org/2000/svg\" height=\"24px\"viewBox=\"0 0 24 24\"\n",
              "       width=\"24px\">\n",
              "    <path d=\"M0 0h24v24H0V0z\" fill=\"none\"/>\n",
              "    <path d=\"M18.56 5.44l.94 2.06.94-2.06 2.06-.94-2.06-.94-.94-2.06-.94 2.06-2.06.94zm-11 1L8.5 8.5l.94-2.06 2.06-.94-2.06-.94L8.5 2.5l-.94 2.06-2.06.94zm10 10l.94 2.06.94-2.06 2.06-.94-2.06-.94-.94-2.06-.94 2.06-2.06.94z\"/><path d=\"M17.41 7.96l-1.37-1.37c-.4-.4-.92-.59-1.43-.59-.52 0-1.04.2-1.43.59L10.3 9.45l-7.72 7.72c-.78.78-.78 2.05 0 2.83L4 21.41c.39.39.9.59 1.41.59.51 0 1.02-.2 1.41-.59l7.78-7.78 2.81-2.81c.8-.78.8-2.07 0-2.86zM5.41 20L4 18.59l7.72-7.72 1.47 1.35L5.41 20z\"/>\n",
              "  </svg>\n",
              "      </button>\n",
              "      \n",
              "  <style>\n",
              "    .colab-df-container {\n",
              "      display:flex;\n",
              "      flex-wrap:wrap;\n",
              "      gap: 12px;\n",
              "    }\n",
              "\n",
              "    .colab-df-convert {\n",
              "      background-color: #E8F0FE;\n",
              "      border: none;\n",
              "      border-radius: 50%;\n",
              "      cursor: pointer;\n",
              "      display: none;\n",
              "      fill: #1967D2;\n",
              "      height: 32px;\n",
              "      padding: 0 0 0 0;\n",
              "      width: 32px;\n",
              "    }\n",
              "\n",
              "    .colab-df-convert:hover {\n",
              "      background-color: #E2EBFA;\n",
              "      box-shadow: 0px 1px 2px rgba(60, 64, 67, 0.3), 0px 1px 3px 1px rgba(60, 64, 67, 0.15);\n",
              "      fill: #174EA6;\n",
              "    }\n",
              "\n",
              "    [theme=dark] .colab-df-convert {\n",
              "      background-color: #3B4455;\n",
              "      fill: #D2E3FC;\n",
              "    }\n",
              "\n",
              "    [theme=dark] .colab-df-convert:hover {\n",
              "      background-color: #434B5C;\n",
              "      box-shadow: 0px 1px 3px 1px rgba(0, 0, 0, 0.15);\n",
              "      filter: drop-shadow(0px 1px 2px rgba(0, 0, 0, 0.3));\n",
              "      fill: #FFFFFF;\n",
              "    }\n",
              "  </style>\n",
              "\n",
              "      <script>\n",
              "        const buttonEl =\n",
              "          document.querySelector('#df-5e1f5122-5674-4f86-907d-7a5b62b68556 button.colab-df-convert');\n",
              "        buttonEl.style.display =\n",
              "          google.colab.kernel.accessAllowed ? 'block' : 'none';\n",
              "\n",
              "        async function convertToInteractive(key) {\n",
              "          const element = document.querySelector('#df-5e1f5122-5674-4f86-907d-7a5b62b68556');\n",
              "          const dataTable =\n",
              "            await google.colab.kernel.invokeFunction('convertToInteractive',\n",
              "                                                     [key], {});\n",
              "          if (!dataTable) return;\n",
              "\n",
              "          const docLinkHtml = 'Like what you see? Visit the ' +\n",
              "            '<a target=\"_blank\" href=https://colab.research.google.com/notebooks/data_table.ipynb>data table notebook</a>'\n",
              "            + ' to learn more about interactive tables.';\n",
              "          element.innerHTML = '';\n",
              "          dataTable['output_type'] = 'display_data';\n",
              "          await google.colab.output.renderOutput(dataTable, element);\n",
              "          const docLink = document.createElement('div');\n",
              "          docLink.innerHTML = docLinkHtml;\n",
              "          element.appendChild(docLink);\n",
              "        }\n",
              "      </script>\n",
              "    </div>\n",
              "  </div>\n",
              "  "
            ]
          },
          "metadata": {},
          "execution_count": 28
        }
      ]
    },
    {
      "cell_type": "code",
      "source": [
        "y=fastcluster.linkage (df2, method='single', metric='euclidean', preserve_input='True')"
      ],
      "metadata": {
        "id": "Zep8Yx0s2hH3",
        "colab": {
          "base_uri": "https://localhost:8080/",
          "height": 169
        },
        "outputId": "956e3be4-de43-4ae8-8cb5-440891b01a66"
      },
      "execution_count": 29,
      "outputs": [
        {
          "output_type": "error",
          "ename": "NameError",
          "evalue": "ignored",
          "traceback": [
            "\u001b[0;31m---------------------------------------------------------------------------\u001b[0m",
            "\u001b[0;31mNameError\u001b[0m                                 Traceback (most recent call last)",
            "\u001b[0;32m<ipython-input-29-9d8074bba0a9>\u001b[0m in \u001b[0;36m<module>\u001b[0;34m\u001b[0m\n\u001b[0;32m----> 1\u001b[0;31m \u001b[0my\u001b[0m\u001b[0;34m=\u001b[0m\u001b[0mfastcluster\u001b[0m\u001b[0;34m.\u001b[0m\u001b[0mlinkage\u001b[0m \u001b[0;34m(\u001b[0m\u001b[0mdf2\u001b[0m\u001b[0;34m,\u001b[0m \u001b[0mmethod\u001b[0m\u001b[0;34m=\u001b[0m\u001b[0;34m'single'\u001b[0m\u001b[0;34m,\u001b[0m \u001b[0mmetric\u001b[0m\u001b[0;34m=\u001b[0m\u001b[0;34m'euclidean'\u001b[0m\u001b[0;34m,\u001b[0m \u001b[0mpreserve_input\u001b[0m\u001b[0;34m=\u001b[0m\u001b[0;34m'True'\u001b[0m\u001b[0;34m)\u001b[0m\u001b[0;34m\u001b[0m\u001b[0;34m\u001b[0m\u001b[0m\n\u001b[0m",
            "\u001b[0;31mNameError\u001b[0m: name 'fastcluster' is not defined"
          ]
        }
      ]
    },
    {
      "cell_type": "code",
      "source": [
        "sns.clustermap(y)"
      ],
      "metadata": {
        "colab": {
          "base_uri": "https://localhost:8080/",
          "height": 169
        },
        "id": "Tl_Hh0xh2qCw",
        "outputId": "0852254d-b036-40e7-890f-03470a5bdfc5"
      },
      "execution_count": 30,
      "outputs": [
        {
          "output_type": "error",
          "ename": "NameError",
          "evalue": "ignored",
          "traceback": [
            "\u001b[0;31m---------------------------------------------------------------------------\u001b[0m",
            "\u001b[0;31mNameError\u001b[0m                                 Traceback (most recent call last)",
            "\u001b[0;32m<ipython-input-30-485840dd2890>\u001b[0m in \u001b[0;36m<module>\u001b[0;34m\u001b[0m\n\u001b[0;32m----> 1\u001b[0;31m \u001b[0msns\u001b[0m\u001b[0;34m.\u001b[0m\u001b[0mclustermap\u001b[0m\u001b[0;34m(\u001b[0m\u001b[0my\u001b[0m\u001b[0;34m)\u001b[0m\u001b[0;34m\u001b[0m\u001b[0;34m\u001b[0m\u001b[0m\n\u001b[0m",
            "\u001b[0;31mNameError\u001b[0m: name 'y' is not defined"
          ]
        }
      ]
    },
    {
      "cell_type": "code",
      "source": [
        "df.head()"
      ],
      "metadata": {
        "colab": {
          "base_uri": "https://localhost:8080/",
          "height": 299
        },
        "id": "UmY8pkEd2s2S",
        "outputId": "8c41b221-3468-4fd3-81e4-eadbe9b66ab2"
      },
      "execution_count": 31,
      "outputs": [
        {
          "output_type": "execute_result",
          "data": {
            "text/plain": [
              "   Sample  gene_0    gene_1    gene_2    gene_3     gene_4  gene_5    gene_6  \\\n",
              "0       0     0.0  2.017209  3.265527  5.478487  10.431999     0.0  7.175175   \n",
              "1       1     0.0  0.592732  1.588421  7.586157   9.623011     0.0  6.816049   \n",
              "2       2     0.0  3.511759  4.327199  6.881787   9.870730     0.0  6.972130   \n",
              "3       3     0.0  3.663618  4.507649  6.659068  10.196184     0.0  7.843375   \n",
              "4       4     0.0  2.655741  2.821547  6.539454   9.738265     0.0  6.566967   \n",
              "\n",
              "     gene_7  gene_8  ...  gene_20522  gene_20523  gene_20524  gene_20525  \\\n",
              "0  0.591871     0.0  ...    8.210257    9.723516    7.220030    9.119813   \n",
              "1  0.000000     0.0  ...    7.323865    9.740931    6.256586    8.381612   \n",
              "2  0.452595     0.0  ...    8.127123   10.908640    5.401607    9.911597   \n",
              "3  0.434882     0.0  ...    8.792959   10.141520    8.942805    9.601208   \n",
              "4  0.360982     0.0  ...    8.891425   10.373790    7.181162    9.846910   \n",
              "\n",
              "   gene_20526  gene_20527  gene_20528  gene_20529  gene_20530  Class  \n",
              "0   12.003135    9.650743    8.921326    5.286759         0.0   PRAD  \n",
              "1   12.674552   10.517059    9.397854    2.094168         0.0   LUAD  \n",
              "2    9.045255    9.788359   10.090470    1.683023         0.0   PRAD  \n",
              "3   11.392682    9.694814    9.684365    3.292001         0.0   PRAD  \n",
              "4   11.922439    9.217749    9.461191    5.110372         0.0   BRCA  \n",
              "\n",
              "[5 rows x 20533 columns]"
            ],
            "text/html": [
              "\n",
              "  <div id=\"df-f45f85ce-bbe4-4754-b63c-3f5d7df3b485\">\n",
              "    <div class=\"colab-df-container\">\n",
              "      <div>\n",
              "<style scoped>\n",
              "    .dataframe tbody tr th:only-of-type {\n",
              "        vertical-align: middle;\n",
              "    }\n",
              "\n",
              "    .dataframe tbody tr th {\n",
              "        vertical-align: top;\n",
              "    }\n",
              "\n",
              "    .dataframe thead th {\n",
              "        text-align: right;\n",
              "    }\n",
              "</style>\n",
              "<table border=\"1\" class=\"dataframe\">\n",
              "  <thead>\n",
              "    <tr style=\"text-align: right;\">\n",
              "      <th></th>\n",
              "      <th>Sample</th>\n",
              "      <th>gene_0</th>\n",
              "      <th>gene_1</th>\n",
              "      <th>gene_2</th>\n",
              "      <th>gene_3</th>\n",
              "      <th>gene_4</th>\n",
              "      <th>gene_5</th>\n",
              "      <th>gene_6</th>\n",
              "      <th>gene_7</th>\n",
              "      <th>gene_8</th>\n",
              "      <th>...</th>\n",
              "      <th>gene_20522</th>\n",
              "      <th>gene_20523</th>\n",
              "      <th>gene_20524</th>\n",
              "      <th>gene_20525</th>\n",
              "      <th>gene_20526</th>\n",
              "      <th>gene_20527</th>\n",
              "      <th>gene_20528</th>\n",
              "      <th>gene_20529</th>\n",
              "      <th>gene_20530</th>\n",
              "      <th>Class</th>\n",
              "    </tr>\n",
              "  </thead>\n",
              "  <tbody>\n",
              "    <tr>\n",
              "      <th>0</th>\n",
              "      <td>0</td>\n",
              "      <td>0.0</td>\n",
              "      <td>2.017209</td>\n",
              "      <td>3.265527</td>\n",
              "      <td>5.478487</td>\n",
              "      <td>10.431999</td>\n",
              "      <td>0.0</td>\n",
              "      <td>7.175175</td>\n",
              "      <td>0.591871</td>\n",
              "      <td>0.0</td>\n",
              "      <td>...</td>\n",
              "      <td>8.210257</td>\n",
              "      <td>9.723516</td>\n",
              "      <td>7.220030</td>\n",
              "      <td>9.119813</td>\n",
              "      <td>12.003135</td>\n",
              "      <td>9.650743</td>\n",
              "      <td>8.921326</td>\n",
              "      <td>5.286759</td>\n",
              "      <td>0.0</td>\n",
              "      <td>PRAD</td>\n",
              "    </tr>\n",
              "    <tr>\n",
              "      <th>1</th>\n",
              "      <td>1</td>\n",
              "      <td>0.0</td>\n",
              "      <td>0.592732</td>\n",
              "      <td>1.588421</td>\n",
              "      <td>7.586157</td>\n",
              "      <td>9.623011</td>\n",
              "      <td>0.0</td>\n",
              "      <td>6.816049</td>\n",
              "      <td>0.000000</td>\n",
              "      <td>0.0</td>\n",
              "      <td>...</td>\n",
              "      <td>7.323865</td>\n",
              "      <td>9.740931</td>\n",
              "      <td>6.256586</td>\n",
              "      <td>8.381612</td>\n",
              "      <td>12.674552</td>\n",
              "      <td>10.517059</td>\n",
              "      <td>9.397854</td>\n",
              "      <td>2.094168</td>\n",
              "      <td>0.0</td>\n",
              "      <td>LUAD</td>\n",
              "    </tr>\n",
              "    <tr>\n",
              "      <th>2</th>\n",
              "      <td>2</td>\n",
              "      <td>0.0</td>\n",
              "      <td>3.511759</td>\n",
              "      <td>4.327199</td>\n",
              "      <td>6.881787</td>\n",
              "      <td>9.870730</td>\n",
              "      <td>0.0</td>\n",
              "      <td>6.972130</td>\n",
              "      <td>0.452595</td>\n",
              "      <td>0.0</td>\n",
              "      <td>...</td>\n",
              "      <td>8.127123</td>\n",
              "      <td>10.908640</td>\n",
              "      <td>5.401607</td>\n",
              "      <td>9.911597</td>\n",
              "      <td>9.045255</td>\n",
              "      <td>9.788359</td>\n",
              "      <td>10.090470</td>\n",
              "      <td>1.683023</td>\n",
              "      <td>0.0</td>\n",
              "      <td>PRAD</td>\n",
              "    </tr>\n",
              "    <tr>\n",
              "      <th>3</th>\n",
              "      <td>3</td>\n",
              "      <td>0.0</td>\n",
              "      <td>3.663618</td>\n",
              "      <td>4.507649</td>\n",
              "      <td>6.659068</td>\n",
              "      <td>10.196184</td>\n",
              "      <td>0.0</td>\n",
              "      <td>7.843375</td>\n",
              "      <td>0.434882</td>\n",
              "      <td>0.0</td>\n",
              "      <td>...</td>\n",
              "      <td>8.792959</td>\n",
              "      <td>10.141520</td>\n",
              "      <td>8.942805</td>\n",
              "      <td>9.601208</td>\n",
              "      <td>11.392682</td>\n",
              "      <td>9.694814</td>\n",
              "      <td>9.684365</td>\n",
              "      <td>3.292001</td>\n",
              "      <td>0.0</td>\n",
              "      <td>PRAD</td>\n",
              "    </tr>\n",
              "    <tr>\n",
              "      <th>4</th>\n",
              "      <td>4</td>\n",
              "      <td>0.0</td>\n",
              "      <td>2.655741</td>\n",
              "      <td>2.821547</td>\n",
              "      <td>6.539454</td>\n",
              "      <td>9.738265</td>\n",
              "      <td>0.0</td>\n",
              "      <td>6.566967</td>\n",
              "      <td>0.360982</td>\n",
              "      <td>0.0</td>\n",
              "      <td>...</td>\n",
              "      <td>8.891425</td>\n",
              "      <td>10.373790</td>\n",
              "      <td>7.181162</td>\n",
              "      <td>9.846910</td>\n",
              "      <td>11.922439</td>\n",
              "      <td>9.217749</td>\n",
              "      <td>9.461191</td>\n",
              "      <td>5.110372</td>\n",
              "      <td>0.0</td>\n",
              "      <td>BRCA</td>\n",
              "    </tr>\n",
              "  </tbody>\n",
              "</table>\n",
              "<p>5 rows × 20533 columns</p>\n",
              "</div>\n",
              "      <button class=\"colab-df-convert\" onclick=\"convertToInteractive('df-f45f85ce-bbe4-4754-b63c-3f5d7df3b485')\"\n",
              "              title=\"Convert this dataframe to an interactive table.\"\n",
              "              style=\"display:none;\">\n",
              "        \n",
              "  <svg xmlns=\"http://www.w3.org/2000/svg\" height=\"24px\"viewBox=\"0 0 24 24\"\n",
              "       width=\"24px\">\n",
              "    <path d=\"M0 0h24v24H0V0z\" fill=\"none\"/>\n",
              "    <path d=\"M18.56 5.44l.94 2.06.94-2.06 2.06-.94-2.06-.94-.94-2.06-.94 2.06-2.06.94zm-11 1L8.5 8.5l.94-2.06 2.06-.94-2.06-.94L8.5 2.5l-.94 2.06-2.06.94zm10 10l.94 2.06.94-2.06 2.06-.94-2.06-.94-.94-2.06-.94 2.06-2.06.94z\"/><path d=\"M17.41 7.96l-1.37-1.37c-.4-.4-.92-.59-1.43-.59-.52 0-1.04.2-1.43.59L10.3 9.45l-7.72 7.72c-.78.78-.78 2.05 0 2.83L4 21.41c.39.39.9.59 1.41.59.51 0 1.02-.2 1.41-.59l7.78-7.78 2.81-2.81c.8-.78.8-2.07 0-2.86zM5.41 20L4 18.59l7.72-7.72 1.47 1.35L5.41 20z\"/>\n",
              "  </svg>\n",
              "      </button>\n",
              "      \n",
              "  <style>\n",
              "    .colab-df-container {\n",
              "      display:flex;\n",
              "      flex-wrap:wrap;\n",
              "      gap: 12px;\n",
              "    }\n",
              "\n",
              "    .colab-df-convert {\n",
              "      background-color: #E8F0FE;\n",
              "      border: none;\n",
              "      border-radius: 50%;\n",
              "      cursor: pointer;\n",
              "      display: none;\n",
              "      fill: #1967D2;\n",
              "      height: 32px;\n",
              "      padding: 0 0 0 0;\n",
              "      width: 32px;\n",
              "    }\n",
              "\n",
              "    .colab-df-convert:hover {\n",
              "      background-color: #E2EBFA;\n",
              "      box-shadow: 0px 1px 2px rgba(60, 64, 67, 0.3), 0px 1px 3px 1px rgba(60, 64, 67, 0.15);\n",
              "      fill: #174EA6;\n",
              "    }\n",
              "\n",
              "    [theme=dark] .colab-df-convert {\n",
              "      background-color: #3B4455;\n",
              "      fill: #D2E3FC;\n",
              "    }\n",
              "\n",
              "    [theme=dark] .colab-df-convert:hover {\n",
              "      background-color: #434B5C;\n",
              "      box-shadow: 0px 1px 3px 1px rgba(0, 0, 0, 0.15);\n",
              "      filter: drop-shadow(0px 1px 2px rgba(0, 0, 0, 0.3));\n",
              "      fill: #FFFFFF;\n",
              "    }\n",
              "  </style>\n",
              "\n",
              "      <script>\n",
              "        const buttonEl =\n",
              "          document.querySelector('#df-f45f85ce-bbe4-4754-b63c-3f5d7df3b485 button.colab-df-convert');\n",
              "        buttonEl.style.display =\n",
              "          google.colab.kernel.accessAllowed ? 'block' : 'none';\n",
              "\n",
              "        async function convertToInteractive(key) {\n",
              "          const element = document.querySelector('#df-f45f85ce-bbe4-4754-b63c-3f5d7df3b485');\n",
              "          const dataTable =\n",
              "            await google.colab.kernel.invokeFunction('convertToInteractive',\n",
              "                                                     [key], {});\n",
              "          if (!dataTable) return;\n",
              "\n",
              "          const docLinkHtml = 'Like what you see? Visit the ' +\n",
              "            '<a target=\"_blank\" href=https://colab.research.google.com/notebooks/data_table.ipynb>data table notebook</a>'\n",
              "            + ' to learn more about interactive tables.';\n",
              "          element.innerHTML = '';\n",
              "          dataTable['output_type'] = 'display_data';\n",
              "          await google.colab.output.renderOutput(dataTable, element);\n",
              "          const docLink = document.createElement('div');\n",
              "          docLink.innerHTML = docLinkHtml;\n",
              "          element.appendChild(docLink);\n",
              "        }\n",
              "      </script>\n",
              "    </div>\n",
              "  </div>\n",
              "  "
            ]
          },
          "metadata": {},
          "execution_count": 31
        }
      ]
    },
    {
      "cell_type": "code",
      "source": [
        "#Checking for Null Values"
      ],
      "metadata": {
        "id": "URHrk4a-37ok"
      },
      "execution_count": 32,
      "outputs": []
    },
    {
      "cell_type": "code",
      "source": [
        "df.isnull().sum()"
      ],
      "metadata": {
        "colab": {
          "base_uri": "https://localhost:8080/"
        },
        "id": "X_9AI5bLJ5PV",
        "outputId": "b35b809d-3cce-404c-887e-0003876d1faf"
      },
      "execution_count": 33,
      "outputs": [
        {
          "output_type": "execute_result",
          "data": {
            "text/plain": [
              "Sample        0\n",
              "gene_0        0\n",
              "gene_1        0\n",
              "gene_2        0\n",
              "gene_3        0\n",
              "             ..\n",
              "gene_20527    0\n",
              "gene_20528    0\n",
              "gene_20529    0\n",
              "gene_20530    0\n",
              "Class         0\n",
              "Length: 20533, dtype: int64"
            ]
          },
          "metadata": {},
          "execution_count": 33
        }
      ]
    },
    {
      "cell_type": "code",
      "source": [
        "#We can see that there are no null values in the data"
      ],
      "metadata": {
        "id": "2WBv6WDsJ7wL"
      },
      "execution_count": 34,
      "outputs": []
    },
    {
      "cell_type": "code",
      "source": [
        "df.describe()"
      ],
      "metadata": {
        "colab": {
          "base_uri": "https://localhost:8080/",
          "height": 393
        },
        "id": "-OrQFzrNKDDw",
        "outputId": "42318c7f-c109-43bf-9024-9607e34ca254"
      },
      "execution_count": 35,
      "outputs": [
        {
          "output_type": "execute_result",
          "data": {
            "text/plain": [
              "           Sample      gene_0      gene_1      gene_2      gene_3      gene_4  \\\n",
              "count  801.000000  801.000000  801.000000  801.000000  801.000000  801.000000   \n",
              "mean   400.000000    0.026642    3.010909    3.095350    6.722305    9.813612   \n",
              "std    231.373075    0.136850    1.200828    1.065601    0.638819    0.506537   \n",
              "min      0.000000    0.000000    0.000000    0.000000    5.009284    8.435999   \n",
              "25%    200.000000    0.000000    2.299039    2.390365    6.303346    9.464466   \n",
              "50%    400.000000    0.000000    3.143687    3.127006    6.655893    9.791599   \n",
              "75%    600.000000    0.000000    3.883484    3.802534    7.038447   10.142324   \n",
              "max    800.000000    1.482332    6.237034    6.063484   10.129528   11.355621   \n",
              "\n",
              "       gene_5      gene_6      gene_7      gene_8  ...  gene_20521  \\\n",
              "count   801.0  801.000000  801.000000  801.000000  ...  801.000000   \n",
              "mean      0.0    7.405509    0.499882    0.016744  ...    5.896573   \n",
              "std       0.0    1.108237    0.508799    0.133635  ...    0.746399   \n",
              "min       0.0    3.930747    0.000000    0.000000  ...    2.853517   \n",
              "25%       0.0    6.676042    0.000000    0.000000  ...    5.454926   \n",
              "50%       0.0    7.450114    0.443076    0.000000  ...    5.972582   \n",
              "75%       0.0    8.121984    0.789354    0.000000  ...    6.411292   \n",
              "max       0.0   10.718190    2.779008    1.785592  ...    7.771054   \n",
              "\n",
              "       gene_20522  gene_20523  gene_20524  gene_20525  gene_20526  gene_20527  \\\n",
              "count  801.000000  801.000000  801.000000  801.000000  801.000000  801.000000   \n",
              "mean     8.765891   10.056252    4.847727    9.741987   11.742228   10.155271   \n",
              "std      0.603176    0.379278    2.382728    0.533898    0.670371    0.580569   \n",
              "min      6.678368    8.669456    0.000000    7.974942    9.045255    7.530141   \n",
              "25%      8.383834    9.826027    3.130750    9.400747   11.315857    9.836525   \n",
              "50%      8.784144   10.066385    5.444935    9.784524   11.749802   10.191207   \n",
              "75%      9.147136   10.299025    6.637412   10.082269   12.177852   10.578561   \n",
              "max     11.105431   11.318243    9.207495   11.811632   13.715361   11.675653   \n",
              "\n",
              "       gene_20528  gene_20529  gene_20530  \n",
              "count  801.000000  801.000000  801.000000  \n",
              "mean     9.590726    5.528177    0.095411  \n",
              "std      0.563849    2.073859    0.364529  \n",
              "min      7.864533    0.593975    0.000000  \n",
              "25%      9.244219    4.092385    0.000000  \n",
              "50%      9.566511    5.218618    0.000000  \n",
              "75%      9.917888    6.876382    0.000000  \n",
              "max     12.813320   11.205836    5.254133  \n",
              "\n",
              "[8 rows x 20532 columns]"
            ],
            "text/html": [
              "\n",
              "  <div id=\"df-954dc3c2-22e6-4fae-983c-7c629bbb0a0c\">\n",
              "    <div class=\"colab-df-container\">\n",
              "      <div>\n",
              "<style scoped>\n",
              "    .dataframe tbody tr th:only-of-type {\n",
              "        vertical-align: middle;\n",
              "    }\n",
              "\n",
              "    .dataframe tbody tr th {\n",
              "        vertical-align: top;\n",
              "    }\n",
              "\n",
              "    .dataframe thead th {\n",
              "        text-align: right;\n",
              "    }\n",
              "</style>\n",
              "<table border=\"1\" class=\"dataframe\">\n",
              "  <thead>\n",
              "    <tr style=\"text-align: right;\">\n",
              "      <th></th>\n",
              "      <th>Sample</th>\n",
              "      <th>gene_0</th>\n",
              "      <th>gene_1</th>\n",
              "      <th>gene_2</th>\n",
              "      <th>gene_3</th>\n",
              "      <th>gene_4</th>\n",
              "      <th>gene_5</th>\n",
              "      <th>gene_6</th>\n",
              "      <th>gene_7</th>\n",
              "      <th>gene_8</th>\n",
              "      <th>...</th>\n",
              "      <th>gene_20521</th>\n",
              "      <th>gene_20522</th>\n",
              "      <th>gene_20523</th>\n",
              "      <th>gene_20524</th>\n",
              "      <th>gene_20525</th>\n",
              "      <th>gene_20526</th>\n",
              "      <th>gene_20527</th>\n",
              "      <th>gene_20528</th>\n",
              "      <th>gene_20529</th>\n",
              "      <th>gene_20530</th>\n",
              "    </tr>\n",
              "  </thead>\n",
              "  <tbody>\n",
              "    <tr>\n",
              "      <th>count</th>\n",
              "      <td>801.000000</td>\n",
              "      <td>801.000000</td>\n",
              "      <td>801.000000</td>\n",
              "      <td>801.000000</td>\n",
              "      <td>801.000000</td>\n",
              "      <td>801.000000</td>\n",
              "      <td>801.0</td>\n",
              "      <td>801.000000</td>\n",
              "      <td>801.000000</td>\n",
              "      <td>801.000000</td>\n",
              "      <td>...</td>\n",
              "      <td>801.000000</td>\n",
              "      <td>801.000000</td>\n",
              "      <td>801.000000</td>\n",
              "      <td>801.000000</td>\n",
              "      <td>801.000000</td>\n",
              "      <td>801.000000</td>\n",
              "      <td>801.000000</td>\n",
              "      <td>801.000000</td>\n",
              "      <td>801.000000</td>\n",
              "      <td>801.000000</td>\n",
              "    </tr>\n",
              "    <tr>\n",
              "      <th>mean</th>\n",
              "      <td>400.000000</td>\n",
              "      <td>0.026642</td>\n",
              "      <td>3.010909</td>\n",
              "      <td>3.095350</td>\n",
              "      <td>6.722305</td>\n",
              "      <td>9.813612</td>\n",
              "      <td>0.0</td>\n",
              "      <td>7.405509</td>\n",
              "      <td>0.499882</td>\n",
              "      <td>0.016744</td>\n",
              "      <td>...</td>\n",
              "      <td>5.896573</td>\n",
              "      <td>8.765891</td>\n",
              "      <td>10.056252</td>\n",
              "      <td>4.847727</td>\n",
              "      <td>9.741987</td>\n",
              "      <td>11.742228</td>\n",
              "      <td>10.155271</td>\n",
              "      <td>9.590726</td>\n",
              "      <td>5.528177</td>\n",
              "      <td>0.095411</td>\n",
              "    </tr>\n",
              "    <tr>\n",
              "      <th>std</th>\n",
              "      <td>231.373075</td>\n",
              "      <td>0.136850</td>\n",
              "      <td>1.200828</td>\n",
              "      <td>1.065601</td>\n",
              "      <td>0.638819</td>\n",
              "      <td>0.506537</td>\n",
              "      <td>0.0</td>\n",
              "      <td>1.108237</td>\n",
              "      <td>0.508799</td>\n",
              "      <td>0.133635</td>\n",
              "      <td>...</td>\n",
              "      <td>0.746399</td>\n",
              "      <td>0.603176</td>\n",
              "      <td>0.379278</td>\n",
              "      <td>2.382728</td>\n",
              "      <td>0.533898</td>\n",
              "      <td>0.670371</td>\n",
              "      <td>0.580569</td>\n",
              "      <td>0.563849</td>\n",
              "      <td>2.073859</td>\n",
              "      <td>0.364529</td>\n",
              "    </tr>\n",
              "    <tr>\n",
              "      <th>min</th>\n",
              "      <td>0.000000</td>\n",
              "      <td>0.000000</td>\n",
              "      <td>0.000000</td>\n",
              "      <td>0.000000</td>\n",
              "      <td>5.009284</td>\n",
              "      <td>8.435999</td>\n",
              "      <td>0.0</td>\n",
              "      <td>3.930747</td>\n",
              "      <td>0.000000</td>\n",
              "      <td>0.000000</td>\n",
              "      <td>...</td>\n",
              "      <td>2.853517</td>\n",
              "      <td>6.678368</td>\n",
              "      <td>8.669456</td>\n",
              "      <td>0.000000</td>\n",
              "      <td>7.974942</td>\n",
              "      <td>9.045255</td>\n",
              "      <td>7.530141</td>\n",
              "      <td>7.864533</td>\n",
              "      <td>0.593975</td>\n",
              "      <td>0.000000</td>\n",
              "    </tr>\n",
              "    <tr>\n",
              "      <th>25%</th>\n",
              "      <td>200.000000</td>\n",
              "      <td>0.000000</td>\n",
              "      <td>2.299039</td>\n",
              "      <td>2.390365</td>\n",
              "      <td>6.303346</td>\n",
              "      <td>9.464466</td>\n",
              "      <td>0.0</td>\n",
              "      <td>6.676042</td>\n",
              "      <td>0.000000</td>\n",
              "      <td>0.000000</td>\n",
              "      <td>...</td>\n",
              "      <td>5.454926</td>\n",
              "      <td>8.383834</td>\n",
              "      <td>9.826027</td>\n",
              "      <td>3.130750</td>\n",
              "      <td>9.400747</td>\n",
              "      <td>11.315857</td>\n",
              "      <td>9.836525</td>\n",
              "      <td>9.244219</td>\n",
              "      <td>4.092385</td>\n",
              "      <td>0.000000</td>\n",
              "    </tr>\n",
              "    <tr>\n",
              "      <th>50%</th>\n",
              "      <td>400.000000</td>\n",
              "      <td>0.000000</td>\n",
              "      <td>3.143687</td>\n",
              "      <td>3.127006</td>\n",
              "      <td>6.655893</td>\n",
              "      <td>9.791599</td>\n",
              "      <td>0.0</td>\n",
              "      <td>7.450114</td>\n",
              "      <td>0.443076</td>\n",
              "      <td>0.000000</td>\n",
              "      <td>...</td>\n",
              "      <td>5.972582</td>\n",
              "      <td>8.784144</td>\n",
              "      <td>10.066385</td>\n",
              "      <td>5.444935</td>\n",
              "      <td>9.784524</td>\n",
              "      <td>11.749802</td>\n",
              "      <td>10.191207</td>\n",
              "      <td>9.566511</td>\n",
              "      <td>5.218618</td>\n",
              "      <td>0.000000</td>\n",
              "    </tr>\n",
              "    <tr>\n",
              "      <th>75%</th>\n",
              "      <td>600.000000</td>\n",
              "      <td>0.000000</td>\n",
              "      <td>3.883484</td>\n",
              "      <td>3.802534</td>\n",
              "      <td>7.038447</td>\n",
              "      <td>10.142324</td>\n",
              "      <td>0.0</td>\n",
              "      <td>8.121984</td>\n",
              "      <td>0.789354</td>\n",
              "      <td>0.000000</td>\n",
              "      <td>...</td>\n",
              "      <td>6.411292</td>\n",
              "      <td>9.147136</td>\n",
              "      <td>10.299025</td>\n",
              "      <td>6.637412</td>\n",
              "      <td>10.082269</td>\n",
              "      <td>12.177852</td>\n",
              "      <td>10.578561</td>\n",
              "      <td>9.917888</td>\n",
              "      <td>6.876382</td>\n",
              "      <td>0.000000</td>\n",
              "    </tr>\n",
              "    <tr>\n",
              "      <th>max</th>\n",
              "      <td>800.000000</td>\n",
              "      <td>1.482332</td>\n",
              "      <td>6.237034</td>\n",
              "      <td>6.063484</td>\n",
              "      <td>10.129528</td>\n",
              "      <td>11.355621</td>\n",
              "      <td>0.0</td>\n",
              "      <td>10.718190</td>\n",
              "      <td>2.779008</td>\n",
              "      <td>1.785592</td>\n",
              "      <td>...</td>\n",
              "      <td>7.771054</td>\n",
              "      <td>11.105431</td>\n",
              "      <td>11.318243</td>\n",
              "      <td>9.207495</td>\n",
              "      <td>11.811632</td>\n",
              "      <td>13.715361</td>\n",
              "      <td>11.675653</td>\n",
              "      <td>12.813320</td>\n",
              "      <td>11.205836</td>\n",
              "      <td>5.254133</td>\n",
              "    </tr>\n",
              "  </tbody>\n",
              "</table>\n",
              "<p>8 rows × 20532 columns</p>\n",
              "</div>\n",
              "      <button class=\"colab-df-convert\" onclick=\"convertToInteractive('df-954dc3c2-22e6-4fae-983c-7c629bbb0a0c')\"\n",
              "              title=\"Convert this dataframe to an interactive table.\"\n",
              "              style=\"display:none;\">\n",
              "        \n",
              "  <svg xmlns=\"http://www.w3.org/2000/svg\" height=\"24px\"viewBox=\"0 0 24 24\"\n",
              "       width=\"24px\">\n",
              "    <path d=\"M0 0h24v24H0V0z\" fill=\"none\"/>\n",
              "    <path d=\"M18.56 5.44l.94 2.06.94-2.06 2.06-.94-2.06-.94-.94-2.06-.94 2.06-2.06.94zm-11 1L8.5 8.5l.94-2.06 2.06-.94-2.06-.94L8.5 2.5l-.94 2.06-2.06.94zm10 10l.94 2.06.94-2.06 2.06-.94-2.06-.94-.94-2.06-.94 2.06-2.06.94z\"/><path d=\"M17.41 7.96l-1.37-1.37c-.4-.4-.92-.59-1.43-.59-.52 0-1.04.2-1.43.59L10.3 9.45l-7.72 7.72c-.78.78-.78 2.05 0 2.83L4 21.41c.39.39.9.59 1.41.59.51 0 1.02-.2 1.41-.59l7.78-7.78 2.81-2.81c.8-.78.8-2.07 0-2.86zM5.41 20L4 18.59l7.72-7.72 1.47 1.35L5.41 20z\"/>\n",
              "  </svg>\n",
              "      </button>\n",
              "      \n",
              "  <style>\n",
              "    .colab-df-container {\n",
              "      display:flex;\n",
              "      flex-wrap:wrap;\n",
              "      gap: 12px;\n",
              "    }\n",
              "\n",
              "    .colab-df-convert {\n",
              "      background-color: #E8F0FE;\n",
              "      border: none;\n",
              "      border-radius: 50%;\n",
              "      cursor: pointer;\n",
              "      display: none;\n",
              "      fill: #1967D2;\n",
              "      height: 32px;\n",
              "      padding: 0 0 0 0;\n",
              "      width: 32px;\n",
              "    }\n",
              "\n",
              "    .colab-df-convert:hover {\n",
              "      background-color: #E2EBFA;\n",
              "      box-shadow: 0px 1px 2px rgba(60, 64, 67, 0.3), 0px 1px 3px 1px rgba(60, 64, 67, 0.15);\n",
              "      fill: #174EA6;\n",
              "    }\n",
              "\n",
              "    [theme=dark] .colab-df-convert {\n",
              "      background-color: #3B4455;\n",
              "      fill: #D2E3FC;\n",
              "    }\n",
              "\n",
              "    [theme=dark] .colab-df-convert:hover {\n",
              "      background-color: #434B5C;\n",
              "      box-shadow: 0px 1px 3px 1px rgba(0, 0, 0, 0.15);\n",
              "      filter: drop-shadow(0px 1px 2px rgba(0, 0, 0, 0.3));\n",
              "      fill: #FFFFFF;\n",
              "    }\n",
              "  </style>\n",
              "\n",
              "      <script>\n",
              "        const buttonEl =\n",
              "          document.querySelector('#df-954dc3c2-22e6-4fae-983c-7c629bbb0a0c button.colab-df-convert');\n",
              "        buttonEl.style.display =\n",
              "          google.colab.kernel.accessAllowed ? 'block' : 'none';\n",
              "\n",
              "        async function convertToInteractive(key) {\n",
              "          const element = document.querySelector('#df-954dc3c2-22e6-4fae-983c-7c629bbb0a0c');\n",
              "          const dataTable =\n",
              "            await google.colab.kernel.invokeFunction('convertToInteractive',\n",
              "                                                     [key], {});\n",
              "          if (!dataTable) return;\n",
              "\n",
              "          const docLinkHtml = 'Like what you see? Visit the ' +\n",
              "            '<a target=\"_blank\" href=https://colab.research.google.com/notebooks/data_table.ipynb>data table notebook</a>'\n",
              "            + ' to learn more about interactive tables.';\n",
              "          element.innerHTML = '';\n",
              "          dataTable['output_type'] = 'display_data';\n",
              "          await google.colab.output.renderOutput(dataTable, element);\n",
              "          const docLink = document.createElement('div');\n",
              "          docLink.innerHTML = docLinkHtml;\n",
              "          element.appendChild(docLink);\n",
              "        }\n",
              "      </script>\n",
              "    </div>\n",
              "  </div>\n",
              "  "
            ]
          },
          "metadata": {},
          "execution_count": 35
        }
      ]
    },
    {
      "cell_type": "code",
      "source": [
        "#Checking for target class"
      ],
      "metadata": {
        "id": "iUjFK1k4KGl5"
      },
      "execution_count": 36,
      "outputs": []
    },
    {
      "cell_type": "code",
      "source": [
        "df.Class.value_counts()"
      ],
      "metadata": {
        "colab": {
          "base_uri": "https://localhost:8080/"
        },
        "id": "dLMcx9ewKdSH",
        "outputId": "6b7b8163-15ae-4485-96d2-76a76c583f3d"
      },
      "execution_count": 37,
      "outputs": [
        {
          "output_type": "execute_result",
          "data": {
            "text/plain": [
              "BRCA    300\n",
              "KIRC    146\n",
              "LUAD    141\n",
              "PRAD    136\n",
              "COAD     78\n",
              "Name: Class, dtype: int64"
            ]
          },
          "metadata": {},
          "execution_count": 37
        }
      ]
    },
    {
      "cell_type": "code",
      "source": [
        "#We need to balance this using SMOTE"
      ],
      "metadata": {
        "id": "vkqXATa4KgRj"
      },
      "execution_count": 38,
      "outputs": []
    },
    {
      "cell_type": "code",
      "source": [
        "#Checking for distribution"
      ],
      "metadata": {
        "id": "JLmOZoK7Kq5c"
      },
      "execution_count": 39,
      "outputs": []
    },
    {
      "cell_type": "code",
      "source": [
        "#for col in df.columns:\n",
        "  #sns.kdeplot(x=col,data=df)\n",
        "  #plt.show()"
      ],
      "metadata": {
        "id": "--YWpqCBKweY"
      },
      "execution_count": 40,
      "outputs": []
    },
    {
      "cell_type": "code",
      "source": [
        "#Reducing the dimensions using PCA"
      ],
      "metadata": {
        "id": "7iy5elh8K9E8"
      },
      "execution_count": 41,
      "outputs": []
    },
    {
      "cell_type": "code",
      "source": [
        "df4=df.copy(deep=True)"
      ],
      "metadata": {
        "id": "HGzvrL5pL-XD"
      },
      "execution_count": 42,
      "outputs": []
    },
    {
      "cell_type": "code",
      "source": [
        "#Dropping the Sample no. as we do not requie it for model building"
      ],
      "metadata": {
        "id": "iZTLd02vMoML"
      },
      "execution_count": 43,
      "outputs": []
    },
    {
      "cell_type": "code",
      "source": [
        "df4=df4.drop('Sample',axis=1)"
      ],
      "metadata": {
        "id": "8_QgZg0XModU"
      },
      "execution_count": 44,
      "outputs": []
    },
    {
      "cell_type": "code",
      "source": [
        "#Separating the dependent and independent columns"
      ],
      "metadata": {
        "id": "cuN-X7WBLSzd"
      },
      "execution_count": 45,
      "outputs": []
    },
    {
      "cell_type": "code",
      "source": [
        "X=df4.drop('Class',axis=1)\n",
        "y=df4['Class']"
      ],
      "metadata": {
        "id": "DdhGtbEnL5Fd"
      },
      "execution_count": 46,
      "outputs": []
    },
    {
      "cell_type": "code",
      "source": [
        "sc=StandardScaler()\n",
        "\n",
        "X_scaled=sc.fit_transform(X)\n",
        "df_X_scaled=pd.DataFrame(X_scaled,columns=X.columns)\n",
        "df_X_scaled.head()"
      ],
      "metadata": {
        "colab": {
          "base_uri": "https://localhost:8080/",
          "height": 299
        },
        "id": "EvYp4Bo2MMhb",
        "outputId": "9b39dd46-beb5-482b-8a20-6c89d42309df"
      },
      "execution_count": 47,
      "outputs": [
        {
          "output_type": "execute_result",
          "data": {
            "text/plain": [
              "     gene_0    gene_1    gene_2    gene_3    gene_4  gene_5    gene_6  \\\n",
              "0 -0.194799 -0.828030  0.159800 -1.948277  1.221575     0.0 -0.207968   \n",
              "1 -0.194799 -2.015017 -1.415042  1.353109 -0.376518     0.0 -0.532222   \n",
              "2 -0.194799  0.417348  1.156735  0.249807  0.112832     0.0 -0.391297   \n",
              "3 -0.194799  0.543888  1.326182 -0.099053  0.755741     0.0  0.395348   \n",
              "4 -0.194799 -0.295955 -0.257107 -0.286413 -0.148843     0.0 -0.757118   \n",
              "\n",
              "     gene_7    gene_8    gene_9  ...  gene_20521  gene_20522  gene_20523  \\\n",
              "0  0.180910 -0.125376 -0.065633  ...   -1.300200   -0.921755   -0.877838   \n",
              "1 -0.983088 -0.125376 -0.065633  ...   -1.747076   -2.392213   -0.831893   \n",
              "2 -0.092995 -0.125376 -0.065633  ...   -1.034088   -1.059669    2.248803   \n",
              "3 -0.127831 -0.125376 -0.065633  ...    0.241299    0.044905    0.224956   \n",
              "4 -0.273165 -0.125376 -0.065633  ...    0.133335    0.208252    0.837739   \n",
              "\n",
              "   gene_20524  gene_20525  gene_20526  gene_20527  gene_20528  gene_20529  \\\n",
              "0    0.996247   -1.166072    0.389441   -0.869566   -1.187938   -0.116483   \n",
              "1    0.591649   -2.549598    1.391628    0.623551   -0.342277   -1.656889   \n",
              "2    0.232601    0.317880   -4.025621   -0.632381    0.886860   -1.855264   \n",
              "3    1.719725   -0.263847   -0.521747   -0.793609    0.166174   -1.078941   \n",
              "4    0.979924    0.196645    0.268992   -1.615841   -0.229878   -0.201588   \n",
              "\n",
              "   gene_20530  \n",
              "0   -0.261901  \n",
              "1   -0.261901  \n",
              "2   -0.261901  \n",
              "3   -0.261901  \n",
              "4   -0.261901  \n",
              "\n",
              "[5 rows x 20531 columns]"
            ],
            "text/html": [
              "\n",
              "  <div id=\"df-c17fdf75-bd09-4008-8774-bddf00b21fde\">\n",
              "    <div class=\"colab-df-container\">\n",
              "      <div>\n",
              "<style scoped>\n",
              "    .dataframe tbody tr th:only-of-type {\n",
              "        vertical-align: middle;\n",
              "    }\n",
              "\n",
              "    .dataframe tbody tr th {\n",
              "        vertical-align: top;\n",
              "    }\n",
              "\n",
              "    .dataframe thead th {\n",
              "        text-align: right;\n",
              "    }\n",
              "</style>\n",
              "<table border=\"1\" class=\"dataframe\">\n",
              "  <thead>\n",
              "    <tr style=\"text-align: right;\">\n",
              "      <th></th>\n",
              "      <th>gene_0</th>\n",
              "      <th>gene_1</th>\n",
              "      <th>gene_2</th>\n",
              "      <th>gene_3</th>\n",
              "      <th>gene_4</th>\n",
              "      <th>gene_5</th>\n",
              "      <th>gene_6</th>\n",
              "      <th>gene_7</th>\n",
              "      <th>gene_8</th>\n",
              "      <th>gene_9</th>\n",
              "      <th>...</th>\n",
              "      <th>gene_20521</th>\n",
              "      <th>gene_20522</th>\n",
              "      <th>gene_20523</th>\n",
              "      <th>gene_20524</th>\n",
              "      <th>gene_20525</th>\n",
              "      <th>gene_20526</th>\n",
              "      <th>gene_20527</th>\n",
              "      <th>gene_20528</th>\n",
              "      <th>gene_20529</th>\n",
              "      <th>gene_20530</th>\n",
              "    </tr>\n",
              "  </thead>\n",
              "  <tbody>\n",
              "    <tr>\n",
              "      <th>0</th>\n",
              "      <td>-0.194799</td>\n",
              "      <td>-0.828030</td>\n",
              "      <td>0.159800</td>\n",
              "      <td>-1.948277</td>\n",
              "      <td>1.221575</td>\n",
              "      <td>0.0</td>\n",
              "      <td>-0.207968</td>\n",
              "      <td>0.180910</td>\n",
              "      <td>-0.125376</td>\n",
              "      <td>-0.065633</td>\n",
              "      <td>...</td>\n",
              "      <td>-1.300200</td>\n",
              "      <td>-0.921755</td>\n",
              "      <td>-0.877838</td>\n",
              "      <td>0.996247</td>\n",
              "      <td>-1.166072</td>\n",
              "      <td>0.389441</td>\n",
              "      <td>-0.869566</td>\n",
              "      <td>-1.187938</td>\n",
              "      <td>-0.116483</td>\n",
              "      <td>-0.261901</td>\n",
              "    </tr>\n",
              "    <tr>\n",
              "      <th>1</th>\n",
              "      <td>-0.194799</td>\n",
              "      <td>-2.015017</td>\n",
              "      <td>-1.415042</td>\n",
              "      <td>1.353109</td>\n",
              "      <td>-0.376518</td>\n",
              "      <td>0.0</td>\n",
              "      <td>-0.532222</td>\n",
              "      <td>-0.983088</td>\n",
              "      <td>-0.125376</td>\n",
              "      <td>-0.065633</td>\n",
              "      <td>...</td>\n",
              "      <td>-1.747076</td>\n",
              "      <td>-2.392213</td>\n",
              "      <td>-0.831893</td>\n",
              "      <td>0.591649</td>\n",
              "      <td>-2.549598</td>\n",
              "      <td>1.391628</td>\n",
              "      <td>0.623551</td>\n",
              "      <td>-0.342277</td>\n",
              "      <td>-1.656889</td>\n",
              "      <td>-0.261901</td>\n",
              "    </tr>\n",
              "    <tr>\n",
              "      <th>2</th>\n",
              "      <td>-0.194799</td>\n",
              "      <td>0.417348</td>\n",
              "      <td>1.156735</td>\n",
              "      <td>0.249807</td>\n",
              "      <td>0.112832</td>\n",
              "      <td>0.0</td>\n",
              "      <td>-0.391297</td>\n",
              "      <td>-0.092995</td>\n",
              "      <td>-0.125376</td>\n",
              "      <td>-0.065633</td>\n",
              "      <td>...</td>\n",
              "      <td>-1.034088</td>\n",
              "      <td>-1.059669</td>\n",
              "      <td>2.248803</td>\n",
              "      <td>0.232601</td>\n",
              "      <td>0.317880</td>\n",
              "      <td>-4.025621</td>\n",
              "      <td>-0.632381</td>\n",
              "      <td>0.886860</td>\n",
              "      <td>-1.855264</td>\n",
              "      <td>-0.261901</td>\n",
              "    </tr>\n",
              "    <tr>\n",
              "      <th>3</th>\n",
              "      <td>-0.194799</td>\n",
              "      <td>0.543888</td>\n",
              "      <td>1.326182</td>\n",
              "      <td>-0.099053</td>\n",
              "      <td>0.755741</td>\n",
              "      <td>0.0</td>\n",
              "      <td>0.395348</td>\n",
              "      <td>-0.127831</td>\n",
              "      <td>-0.125376</td>\n",
              "      <td>-0.065633</td>\n",
              "      <td>...</td>\n",
              "      <td>0.241299</td>\n",
              "      <td>0.044905</td>\n",
              "      <td>0.224956</td>\n",
              "      <td>1.719725</td>\n",
              "      <td>-0.263847</td>\n",
              "      <td>-0.521747</td>\n",
              "      <td>-0.793609</td>\n",
              "      <td>0.166174</td>\n",
              "      <td>-1.078941</td>\n",
              "      <td>-0.261901</td>\n",
              "    </tr>\n",
              "    <tr>\n",
              "      <th>4</th>\n",
              "      <td>-0.194799</td>\n",
              "      <td>-0.295955</td>\n",
              "      <td>-0.257107</td>\n",
              "      <td>-0.286413</td>\n",
              "      <td>-0.148843</td>\n",
              "      <td>0.0</td>\n",
              "      <td>-0.757118</td>\n",
              "      <td>-0.273165</td>\n",
              "      <td>-0.125376</td>\n",
              "      <td>-0.065633</td>\n",
              "      <td>...</td>\n",
              "      <td>0.133335</td>\n",
              "      <td>0.208252</td>\n",
              "      <td>0.837739</td>\n",
              "      <td>0.979924</td>\n",
              "      <td>0.196645</td>\n",
              "      <td>0.268992</td>\n",
              "      <td>-1.615841</td>\n",
              "      <td>-0.229878</td>\n",
              "      <td>-0.201588</td>\n",
              "      <td>-0.261901</td>\n",
              "    </tr>\n",
              "  </tbody>\n",
              "</table>\n",
              "<p>5 rows × 20531 columns</p>\n",
              "</div>\n",
              "      <button class=\"colab-df-convert\" onclick=\"convertToInteractive('df-c17fdf75-bd09-4008-8774-bddf00b21fde')\"\n",
              "              title=\"Convert this dataframe to an interactive table.\"\n",
              "              style=\"display:none;\">\n",
              "        \n",
              "  <svg xmlns=\"http://www.w3.org/2000/svg\" height=\"24px\"viewBox=\"0 0 24 24\"\n",
              "       width=\"24px\">\n",
              "    <path d=\"M0 0h24v24H0V0z\" fill=\"none\"/>\n",
              "    <path d=\"M18.56 5.44l.94 2.06.94-2.06 2.06-.94-2.06-.94-.94-2.06-.94 2.06-2.06.94zm-11 1L8.5 8.5l.94-2.06 2.06-.94-2.06-.94L8.5 2.5l-.94 2.06-2.06.94zm10 10l.94 2.06.94-2.06 2.06-.94-2.06-.94-.94-2.06-.94 2.06-2.06.94z\"/><path d=\"M17.41 7.96l-1.37-1.37c-.4-.4-.92-.59-1.43-.59-.52 0-1.04.2-1.43.59L10.3 9.45l-7.72 7.72c-.78.78-.78 2.05 0 2.83L4 21.41c.39.39.9.59 1.41.59.51 0 1.02-.2 1.41-.59l7.78-7.78 2.81-2.81c.8-.78.8-2.07 0-2.86zM5.41 20L4 18.59l7.72-7.72 1.47 1.35L5.41 20z\"/>\n",
              "  </svg>\n",
              "      </button>\n",
              "      \n",
              "  <style>\n",
              "    .colab-df-container {\n",
              "      display:flex;\n",
              "      flex-wrap:wrap;\n",
              "      gap: 12px;\n",
              "    }\n",
              "\n",
              "    .colab-df-convert {\n",
              "      background-color: #E8F0FE;\n",
              "      border: none;\n",
              "      border-radius: 50%;\n",
              "      cursor: pointer;\n",
              "      display: none;\n",
              "      fill: #1967D2;\n",
              "      height: 32px;\n",
              "      padding: 0 0 0 0;\n",
              "      width: 32px;\n",
              "    }\n",
              "\n",
              "    .colab-df-convert:hover {\n",
              "      background-color: #E2EBFA;\n",
              "      box-shadow: 0px 1px 2px rgba(60, 64, 67, 0.3), 0px 1px 3px 1px rgba(60, 64, 67, 0.15);\n",
              "      fill: #174EA6;\n",
              "    }\n",
              "\n",
              "    [theme=dark] .colab-df-convert {\n",
              "      background-color: #3B4455;\n",
              "      fill: #D2E3FC;\n",
              "    }\n",
              "\n",
              "    [theme=dark] .colab-df-convert:hover {\n",
              "      background-color: #434B5C;\n",
              "      box-shadow: 0px 1px 3px 1px rgba(0, 0, 0, 0.15);\n",
              "      filter: drop-shadow(0px 1px 2px rgba(0, 0, 0, 0.3));\n",
              "      fill: #FFFFFF;\n",
              "    }\n",
              "  </style>\n",
              "\n",
              "      <script>\n",
              "        const buttonEl =\n",
              "          document.querySelector('#df-c17fdf75-bd09-4008-8774-bddf00b21fde button.colab-df-convert');\n",
              "        buttonEl.style.display =\n",
              "          google.colab.kernel.accessAllowed ? 'block' : 'none';\n",
              "\n",
              "        async function convertToInteractive(key) {\n",
              "          const element = document.querySelector('#df-c17fdf75-bd09-4008-8774-bddf00b21fde');\n",
              "          const dataTable =\n",
              "            await google.colab.kernel.invokeFunction('convertToInteractive',\n",
              "                                                     [key], {});\n",
              "          if (!dataTable) return;\n",
              "\n",
              "          const docLinkHtml = 'Like what you see? Visit the ' +\n",
              "            '<a target=\"_blank\" href=https://colab.research.google.com/notebooks/data_table.ipynb>data table notebook</a>'\n",
              "            + ' to learn more about interactive tables.';\n",
              "          element.innerHTML = '';\n",
              "          dataTable['output_type'] = 'display_data';\n",
              "          await google.colab.output.renderOutput(dataTable, element);\n",
              "          const docLink = document.createElement('div');\n",
              "          docLink.innerHTML = docLinkHtml;\n",
              "          element.appendChild(docLink);\n",
              "        }\n",
              "      </script>\n",
              "    </div>\n",
              "  </div>\n",
              "  "
            ]
          },
          "metadata": {},
          "execution_count": 47
        }
      ]
    },
    {
      "cell_type": "code",
      "source": [
        "pca=PCA()"
      ],
      "metadata": {
        "id": "v3QMWcdYMQLB"
      },
      "execution_count": 48,
      "outputs": []
    },
    {
      "cell_type": "code",
      "source": [
        "pca_df=pca.fit_transform(df_X_scaled)\n",
        "pca_df"
      ],
      "metadata": {
        "colab": {
          "base_uri": "https://localhost:8080/"
        },
        "id": "a50K9A_KN7s6",
        "outputId": "5f9b12b1-6d31-4382-b47c-6f8e478e8147"
      },
      "execution_count": 49,
      "outputs": [
        {
          "output_type": "execute_result",
          "data": {
            "text/plain": [
              "array([[-5.74469869e+01,  9.54109807e+01,  7.43015433e+01, ...,\n",
              "         1.88147724e-01,  2.17846349e-01,  3.48679841e-15],\n",
              "       [-1.69194301e+01,  7.32470333e-01, -6.40728996e+01, ...,\n",
              "        -2.86567894e-01,  2.32000946e-01,  3.48679841e-15],\n",
              "       [-7.03452179e+01, -1.93033266e+01,  2.04882405e+01, ...,\n",
              "         3.52739154e-02,  7.17769124e-02,  3.48679841e-15],\n",
              "       ...,\n",
              "       [-4.13308968e+00,  1.56900139e+01, -2.26444535e+01, ...,\n",
              "         3.67413088e-01,  7.56620253e-02,  3.48679841e-15],\n",
              "       [-3.08147575e+01,  3.35264225e+01,  7.05656359e+01, ...,\n",
              "        -1.31419635e-01, -1.52471070e-01,  3.48679841e-15],\n",
              "       [-2.23445567e+01,  4.05235632e+00,  3.23278757e+01, ...,\n",
              "         1.19938737e+00, -6.22401143e-01,  3.48679841e-15]])"
            ]
          },
          "metadata": {},
          "execution_count": 49
        }
      ]
    },
    {
      "cell_type": "code",
      "source": [
        "print(np.cumsum(pca.explained_variance_ratio_))"
      ],
      "metadata": {
        "colab": {
          "base_uri": "https://localhost:8080/"
        },
        "id": "dYMuJ4pdOA3H",
        "outputId": "16715e40-73d6-4855-d182-f6145a58bd5d"
      },
      "execution_count": 50,
      "outputs": [
        {
          "output_type": "stream",
          "name": "stdout",
          "text": [
            "[0.10539781 0.19294014 0.27104095 0.32269742 0.36298674 0.39219555\n",
            " 0.4157429  0.43719589 0.4535159  0.4658549  0.47639585 0.48534137\n",
            " 0.4938457  0.50137554 0.50804164 0.51451104 0.52059718 0.52644779\n",
            " 0.53174145 0.53689634 0.54178893 0.54644727 0.55099725 0.55547361\n",
            " 0.5597223  0.56390368 0.56792795 0.57186402 0.57576802 0.5793549\n",
            " 0.58293073 0.58643051 0.58980389 0.59312912 0.59637582 0.59957708\n",
            " 0.60266929 0.60562123 0.60847149 0.61127547 0.61404684 0.61673629\n",
            " 0.61939671 0.62200713 0.62459575 0.62715143 0.62967384 0.63216553\n",
            " 0.63460368 0.63698228 0.63932007 0.64161691 0.6438847  0.6461338\n",
            " 0.64830846 0.65045804 0.65258877 0.65469638 0.65674443 0.65878684\n",
            " 0.66078541 0.66276172 0.66473495 0.6666836  0.66860853 0.67045135\n",
            " 0.67227289 0.67406696 0.67583523 0.67759777 0.67932291 0.68103012\n",
            " 0.68272454 0.68440631 0.6860543  0.68768444 0.68928501 0.69085939\n",
            " 0.69241824 0.69396636 0.69549471 0.69699594 0.69848771 0.69997178\n",
            " 0.70141401 0.70285267 0.70428939 0.70571084 0.70711356 0.70850662\n",
            " 0.70988689 0.71124986 0.71260687 0.71395109 0.71528255 0.71659337\n",
            " 0.71789709 0.71920027 0.72047712 0.72174077 0.72300392 0.72425212\n",
            " 0.7254967  0.72672337 0.72793773 0.72913533 0.73033177 0.73151195\n",
            " 0.73268287 0.73384586 0.73500219 0.73614749 0.73727839 0.73840369\n",
            " 0.73952403 0.74062651 0.74172089 0.74280685 0.74389108 0.7449651\n",
            " 0.74603719 0.74709248 0.74814322 0.74918334 0.75021918 0.75124346\n",
            " 0.75226448 0.75327604 0.75428116 0.75528093 0.75627603 0.75726147\n",
            " 0.75824152 0.75921117 0.76018019 0.76114294 0.76209097 0.76303767\n",
            " 0.76397778 0.76491691 0.76584528 0.76676999 0.76768402 0.76859381\n",
            " 0.76949557 0.77039628 0.77129538 0.77218345 0.77307091 0.77395545\n",
            " 0.77482885 0.7756999  0.77656413 0.77742616 0.77828314 0.77913712\n",
            " 0.77998931 0.78083351 0.78167321 0.78251152 0.78334395 0.7841697\n",
            " 0.78499397 0.78581624 0.78663129 0.78743926 0.78824218 0.78904156\n",
            " 0.78983703 0.79062902 0.79141469 0.79219779 0.7929804  0.7937557\n",
            " 0.79452841 0.79529773 0.79606378 0.79682686 0.79758097 0.79832999\n",
            " 0.79907824 0.79981802 0.8005521  0.80128307 0.80201186 0.80273979\n",
            " 0.80346355 0.80418428 0.80490233 0.80561715 0.80632988 0.80703978\n",
            " 0.80774555 0.80844847 0.80914864 0.80984778 0.81054174 0.81123382\n",
            " 0.8119236  0.81260807 0.81329008 0.81397075 0.81464775 0.81532154\n",
            " 0.81599446 0.81666434 0.81733136 0.81799405 0.81865104 0.81930713\n",
            " 0.81995853 0.82060819 0.82125712 0.82190051 0.82254077 0.82317868\n",
            " 0.8238147  0.82444773 0.82507879 0.82570617 0.82633274 0.82695671\n",
            " 0.82757719 0.82819305 0.82880752 0.8294203  0.83003177 0.83063994\n",
            " 0.83124669 0.83184944 0.83244938 0.83304696 0.83364339 0.83423809\n",
            " 0.83483172 0.83542369 0.83601356 0.8365966  0.83717742 0.83775798\n",
            " 0.83833744 0.83891567 0.83949129 0.84006403 0.84063302 0.84120136\n",
            " 0.84176755 0.84233304 0.84289583 0.84345351 0.84401044 0.84456505\n",
            " 0.84511881 0.84567217 0.84622217 0.84676885 0.84731443 0.84785965\n",
            " 0.84840302 0.84894169 0.84947922 0.85001447 0.85054883 0.85108263\n",
            " 0.8516149  0.85214566 0.85267451 0.85320175 0.85372536 0.8542479\n",
            " 0.85476896 0.8552869  0.85580327 0.85631868 0.85683249 0.85734298\n",
            " 0.8578526  0.85836103 0.85886865 0.85937334 0.85987457 0.86037424\n",
            " 0.86087353 0.86137145 0.86186798 0.86236406 0.86285809 0.86335025\n",
            " 0.86384137 0.86432985 0.8648168  0.86530323 0.86578762 0.86627128\n",
            " 0.86675349 0.86723406 0.86771325 0.86819197 0.86866946 0.86914384\n",
            " 0.869617   0.87008959 0.87056122 0.87103101 0.87149858 0.87196562\n",
            " 0.87243198 0.87289555 0.87335869 0.87382036 0.87428045 0.87473909\n",
            " 0.87519615 0.87565159 0.87610436 0.87655688 0.87700808 0.87745757\n",
            " 0.87790578 0.87835317 0.8788001  0.87924514 0.87968864 0.88013157\n",
            " 0.88057257 0.88101172 0.88145054 0.88188789 0.88232478 0.88276088\n",
            " 0.88319417 0.88362608 0.88405746 0.8844885  0.88491816 0.88534538\n",
            " 0.88577151 0.8861967  0.88661953 0.88704121 0.88746085 0.88787976\n",
            " 0.88829846 0.88871593 0.88913247 0.8895477  0.88996105 0.89037321\n",
            " 0.8907844  0.8911944  0.89160325 0.89201068 0.89241687 0.8928227\n",
            " 0.89322788 0.89363148 0.89403416 0.8944364  0.89483703 0.89523568\n",
            " 0.89563403 0.89603114 0.89642644 0.89682136 0.89721491 0.89760801\n",
            " 0.89800045 0.89839185 0.89878191 0.89917148 0.89956044 0.89994747\n",
            " 0.90033417 0.90071927 0.90110345 0.90148656 0.90186865 0.90224974\n",
            " 0.90263024 0.90300884 0.90338668 0.90376364 0.90413961 0.90451269\n",
            " 0.90488502 0.90525692 0.90562798 0.90599713 0.90636594 0.90673424\n",
            " 0.90710244 0.90746869 0.9078349  0.90819953 0.90856388 0.90892634\n",
            " 0.90928815 0.90964897 0.91000891 0.91036815 0.91072534 0.91108218\n",
            " 0.91143829 0.91179339 0.91214761 0.91250158 0.91285427 0.91320624\n",
            " 0.91355734 0.91390744 0.9142566  0.91460551 0.91495252 0.91529752\n",
            " 0.91564239 0.91598636 0.91632994 0.91667173 0.91701315 0.91735322\n",
            " 0.91769269 0.91803119 0.91836943 0.91870692 0.91904361 0.91937863\n",
            " 0.91971292 0.92004602 0.92037879 0.92071047 0.92104135 0.92137143\n",
            " 0.92170094 0.92203021 0.92235887 0.9226858  0.92301246 0.92333767\n",
            " 0.9236627  0.92398665 0.92430953 0.92463122 0.92495253 0.92527267\n",
            " 0.92559231 0.92591076 0.9262287  0.92654563 0.92686208 0.9271777\n",
            " 0.92749265 0.92780645 0.92811941 0.92843194 0.92874418 0.92905583\n",
            " 0.92936682 0.92967737 0.92998764 0.93029702 0.93060614 0.93091406\n",
            " 0.93122083 0.93152635 0.93183115 0.9321356  0.93243931 0.93274173\n",
            " 0.93304372 0.93334536 0.93364582 0.93394528 0.93424414 0.93454181\n",
            " 0.93483917 0.93513611 0.93543143 0.93572618 0.93601996 0.93631323\n",
            " 0.93660567 0.93689693 0.93718754 0.93747765 0.93776749 0.93805627\n",
            " 0.93834453 0.9386318  0.93891871 0.93920551 0.93949092 0.93977575\n",
            " 0.94005985 0.94034327 0.94062616 0.94090865 0.94119029 0.9414712\n",
            " 0.9417518  0.94203185 0.94231079 0.94258927 0.94286669 0.94314351\n",
            " 0.94342021 0.94369611 0.94397113 0.94424542 0.94451922 0.94479234\n",
            " 0.94506531 0.94533755 0.94560939 0.94587956 0.94614962 0.94641896\n",
            " 0.94668733 0.94695494 0.94722216 0.94748931 0.94775566 0.94802103\n",
            " 0.94828597 0.94855027 0.94881436 0.94907695 0.949339   0.94960073\n",
            " 0.94986143 0.95012138 0.95038051 0.95063912 0.95089756 0.95115541\n",
            " 0.95141281 0.95166915 0.95192482 0.95217924 0.9524336  0.95268759\n",
            " 0.95294091 0.95319336 0.95344524 0.95369639 0.95394743 0.95419758\n",
            " 0.95444676 0.95469546 0.95494343 0.9551912  0.95543874 0.95568544\n",
            " 0.9559317  0.95617728 0.95642222 0.95666685 0.95691075 0.95715423\n",
            " 0.95739706 0.95763957 0.95788102 0.95812198 0.95836247 0.9586022\n",
            " 0.95884164 0.95908044 0.95931869 0.95955597 0.95979281 0.96002944\n",
            " 0.96026483 0.96049939 0.9607336  0.96096753 0.96120095 0.96143415\n",
            " 0.96166627 0.96189728 0.96212815 0.96235845 0.9625883  0.96281694\n",
            " 0.96304543 0.96327342 0.9635009  0.96372801 0.9639545  0.96418044\n",
            " 0.96440554 0.96463042 0.96485466 0.9650784  0.96530106 0.96552354\n",
            " 0.9657454  0.96596709 0.96618786 0.96640818 0.96662791 0.96684739\n",
            " 0.96706625 0.9672844  0.96750245 0.96771984 0.96793655 0.96815275\n",
            " 0.9683685  0.96858409 0.96879916 0.96901402 0.96922808 0.96944182\n",
            " 0.96965478 0.96986687 0.97007816 0.97028927 0.9704996  0.97070906\n",
            " 0.97091813 0.97112638 0.97133399 0.97154124 0.97174832 0.97195515\n",
            " 0.97216169 0.97236718 0.97257202 0.97277649 0.97298057 0.9731844\n",
            " 0.97338789 0.97358967 0.97379107 0.97399221 0.97419288 0.97439264\n",
            " 0.97459201 0.97479097 0.97498906 0.97518685 0.97538388 0.97558076\n",
            " 0.97577699 0.97597272 0.97616809 0.97636294 0.97655655 0.97674981\n",
            " 0.97694228 0.97713458 0.97732645 0.97751804 0.97770911 0.97789956\n",
            " 0.97808927 0.97827844 0.97846724 0.97865571 0.97884362 0.9790305\n",
            " 0.9792172  0.97940331 0.97958913 0.97977468 0.97996006 0.98014518\n",
            " 0.98033003 0.98051353 0.98069684 0.9808792  0.98106097 0.98124182\n",
            " 0.9814224  0.98160262 0.98178219 0.9819613  0.98214016 0.9823185\n",
            " 0.98249617 0.98267378 0.98285017 0.98302648 0.98320187 0.98337689\n",
            " 0.98355124 0.98372484 0.98389793 0.98407088 0.98424325 0.98441529\n",
            " 0.98458664 0.98475768 0.98492826 0.98509854 0.98526806 0.98543735\n",
            " 0.98560623 0.98577459 0.98594213 0.98610912 0.98627601 0.98644276\n",
            " 0.98660839 0.98677372 0.98693863 0.98710252 0.98726631 0.9874297\n",
            " 0.98759253 0.98775515 0.98791689 0.98807847 0.98823955 0.98840004\n",
            " 0.98856023 0.98871962 0.98887849 0.98903701 0.98919476 0.98935174\n",
            " 0.98950812 0.98966416 0.98981969 0.98997465 0.99012913 0.99028317\n",
            " 0.99043681 0.99059002 0.99074265 0.99089509 0.99104654 0.99119759\n",
            " 0.99134833 0.99149881 0.99164838 0.99179722 0.99194561 0.99209376\n",
            " 0.99224114 0.99238806 0.9925347  0.99268079 0.99282609 0.99297097\n",
            " 0.99311551 0.99325898 0.99340226 0.99354497 0.99368655 0.99382795\n",
            " 0.99396882 0.99410931 0.99424834 0.99438672 0.99452487 0.99466289\n",
            " 0.99480007 0.99493645 0.99507279 0.9952081  0.99534258 0.99547661\n",
            " 0.99561012 0.99574287 0.9958749  0.9960059  0.99613689 0.99626695\n",
            " 0.99639616 0.99652452 0.99665267 0.99678017 0.99690726 0.99703233\n",
            " 0.99715679 0.99728107 0.99740463 0.99752755 0.99765024 0.99777271\n",
            " 0.99789371 0.99801405 0.99813374 0.99825281 0.99837034 0.99848636\n",
            " 0.99860176 0.9987167  0.99882976 0.99894226 0.99905399 0.99916503\n",
            " 0.99927401 0.99938261 0.9994903  0.99959612 0.99970064 0.99980449\n",
            " 0.99990291 1.         1.        ]\n"
          ]
        }
      ]
    },
    {
      "cell_type": "code",
      "source": [
        "#With 615 features, we can cater 97 % variance in the data"
      ],
      "metadata": {
        "id": "0NkvHVZPORNG"
      },
      "execution_count": 51,
      "outputs": []
    },
    {
      "cell_type": "code",
      "source": [
        "df_pca=pd.DataFrame(pca_df[:,:615])\n",
        "df_pca.shape"
      ],
      "metadata": {
        "colab": {
          "base_uri": "https://localhost:8080/"
        },
        "id": "JcjU5V3xQOLl",
        "outputId": "c3f9e4cc-44f5-4a98-a9c3-92db5841c051"
      },
      "execution_count": 52,
      "outputs": [
        {
          "output_type": "execute_result",
          "data": {
            "text/plain": [
              "(801, 615)"
            ]
          },
          "metadata": {},
          "execution_count": 52
        }
      ]
    },
    {
      "cell_type": "code",
      "source": [
        "df_pca.head()"
      ],
      "metadata": {
        "colab": {
          "base_uri": "https://localhost:8080/",
          "height": 299
        },
        "id": "4-uHq05kQbAs",
        "outputId": "56613623-7497-4304-c386-398732e2665e"
      },
      "execution_count": 53,
      "outputs": [
        {
          "output_type": "execute_result",
          "data": {
            "text/plain": [
              "         0          1          2          3          4          5    \\\n",
              "0 -57.446987  95.410981  74.301543 -12.166781   7.981831  36.157573   \n",
              "1 -16.919430   0.732470 -64.072900  -2.095308 -25.426430  27.784178   \n",
              "2 -70.345218 -19.303327  20.488240  48.102893  24.437757  17.462510   \n",
              "3 -49.161591  -9.227586  61.243770  37.805744   1.038889  23.240002   \n",
              "4 -18.132534 -51.327797  16.598116 -17.699201  26.389130  -1.551573   \n",
              "\n",
              "         6          7          8          9    ...       605       606  \\\n",
              "0  -7.668542  19.951444   0.142216   3.035240  ...  1.130620  0.220910   \n",
              "1 -16.132765 -17.031383 -22.023874 -27.923308  ... -0.261567  0.738056   \n",
              "2  20.706772 -47.626817 -28.647648 -12.784676  ...  1.596497  0.008137   \n",
              "3  -4.801039 -21.554809 -15.375067 -12.881511  ... -1.714395 -2.721712   \n",
              "4  -6.266101  12.336677  -4.233837  28.804476  ... -0.508362 -0.002824   \n",
              "\n",
              "        607       608       609       610       611       612       613  \\\n",
              "0  0.982230  0.616250 -2.127187 -0.452437 -0.380814 -0.766965  2.899518   \n",
              "1 -1.206895 -1.507717  0.510279 -1.444801 -0.325156  1.128953 -1.626338   \n",
              "2 -0.208658  0.544697 -0.643756  0.529931  0.038336 -1.112950  1.117987   \n",
              "3  2.753760  3.669602 -1.496764 -0.961081 -1.086845 -4.088161 -1.404123   \n",
              "4  3.468022 -5.338577  2.749607 -4.885605  0.067100 -0.993985 -2.070923   \n",
              "\n",
              "        614  \n",
              "0  1.625666  \n",
              "1  0.816298  \n",
              "2 -0.401556  \n",
              "3  1.007461  \n",
              "4  1.086707  \n",
              "\n",
              "[5 rows x 615 columns]"
            ],
            "text/html": [
              "\n",
              "  <div id=\"df-add871da-2145-48ce-aded-24c0241448e3\">\n",
              "    <div class=\"colab-df-container\">\n",
              "      <div>\n",
              "<style scoped>\n",
              "    .dataframe tbody tr th:only-of-type {\n",
              "        vertical-align: middle;\n",
              "    }\n",
              "\n",
              "    .dataframe tbody tr th {\n",
              "        vertical-align: top;\n",
              "    }\n",
              "\n",
              "    .dataframe thead th {\n",
              "        text-align: right;\n",
              "    }\n",
              "</style>\n",
              "<table border=\"1\" class=\"dataframe\">\n",
              "  <thead>\n",
              "    <tr style=\"text-align: right;\">\n",
              "      <th></th>\n",
              "      <th>0</th>\n",
              "      <th>1</th>\n",
              "      <th>2</th>\n",
              "      <th>3</th>\n",
              "      <th>4</th>\n",
              "      <th>5</th>\n",
              "      <th>6</th>\n",
              "      <th>7</th>\n",
              "      <th>8</th>\n",
              "      <th>9</th>\n",
              "      <th>...</th>\n",
              "      <th>605</th>\n",
              "      <th>606</th>\n",
              "      <th>607</th>\n",
              "      <th>608</th>\n",
              "      <th>609</th>\n",
              "      <th>610</th>\n",
              "      <th>611</th>\n",
              "      <th>612</th>\n",
              "      <th>613</th>\n",
              "      <th>614</th>\n",
              "    </tr>\n",
              "  </thead>\n",
              "  <tbody>\n",
              "    <tr>\n",
              "      <th>0</th>\n",
              "      <td>-57.446987</td>\n",
              "      <td>95.410981</td>\n",
              "      <td>74.301543</td>\n",
              "      <td>-12.166781</td>\n",
              "      <td>7.981831</td>\n",
              "      <td>36.157573</td>\n",
              "      <td>-7.668542</td>\n",
              "      <td>19.951444</td>\n",
              "      <td>0.142216</td>\n",
              "      <td>3.035240</td>\n",
              "      <td>...</td>\n",
              "      <td>1.130620</td>\n",
              "      <td>0.220910</td>\n",
              "      <td>0.982230</td>\n",
              "      <td>0.616250</td>\n",
              "      <td>-2.127187</td>\n",
              "      <td>-0.452437</td>\n",
              "      <td>-0.380814</td>\n",
              "      <td>-0.766965</td>\n",
              "      <td>2.899518</td>\n",
              "      <td>1.625666</td>\n",
              "    </tr>\n",
              "    <tr>\n",
              "      <th>1</th>\n",
              "      <td>-16.919430</td>\n",
              "      <td>0.732470</td>\n",
              "      <td>-64.072900</td>\n",
              "      <td>-2.095308</td>\n",
              "      <td>-25.426430</td>\n",
              "      <td>27.784178</td>\n",
              "      <td>-16.132765</td>\n",
              "      <td>-17.031383</td>\n",
              "      <td>-22.023874</td>\n",
              "      <td>-27.923308</td>\n",
              "      <td>...</td>\n",
              "      <td>-0.261567</td>\n",
              "      <td>0.738056</td>\n",
              "      <td>-1.206895</td>\n",
              "      <td>-1.507717</td>\n",
              "      <td>0.510279</td>\n",
              "      <td>-1.444801</td>\n",
              "      <td>-0.325156</td>\n",
              "      <td>1.128953</td>\n",
              "      <td>-1.626338</td>\n",
              "      <td>0.816298</td>\n",
              "    </tr>\n",
              "    <tr>\n",
              "      <th>2</th>\n",
              "      <td>-70.345218</td>\n",
              "      <td>-19.303327</td>\n",
              "      <td>20.488240</td>\n",
              "      <td>48.102893</td>\n",
              "      <td>24.437757</td>\n",
              "      <td>17.462510</td>\n",
              "      <td>20.706772</td>\n",
              "      <td>-47.626817</td>\n",
              "      <td>-28.647648</td>\n",
              "      <td>-12.784676</td>\n",
              "      <td>...</td>\n",
              "      <td>1.596497</td>\n",
              "      <td>0.008137</td>\n",
              "      <td>-0.208658</td>\n",
              "      <td>0.544697</td>\n",
              "      <td>-0.643756</td>\n",
              "      <td>0.529931</td>\n",
              "      <td>0.038336</td>\n",
              "      <td>-1.112950</td>\n",
              "      <td>1.117987</td>\n",
              "      <td>-0.401556</td>\n",
              "    </tr>\n",
              "    <tr>\n",
              "      <th>3</th>\n",
              "      <td>-49.161591</td>\n",
              "      <td>-9.227586</td>\n",
              "      <td>61.243770</td>\n",
              "      <td>37.805744</td>\n",
              "      <td>1.038889</td>\n",
              "      <td>23.240002</td>\n",
              "      <td>-4.801039</td>\n",
              "      <td>-21.554809</td>\n",
              "      <td>-15.375067</td>\n",
              "      <td>-12.881511</td>\n",
              "      <td>...</td>\n",
              "      <td>-1.714395</td>\n",
              "      <td>-2.721712</td>\n",
              "      <td>2.753760</td>\n",
              "      <td>3.669602</td>\n",
              "      <td>-1.496764</td>\n",
              "      <td>-0.961081</td>\n",
              "      <td>-1.086845</td>\n",
              "      <td>-4.088161</td>\n",
              "      <td>-1.404123</td>\n",
              "      <td>1.007461</td>\n",
              "    </tr>\n",
              "    <tr>\n",
              "      <th>4</th>\n",
              "      <td>-18.132534</td>\n",
              "      <td>-51.327797</td>\n",
              "      <td>16.598116</td>\n",
              "      <td>-17.699201</td>\n",
              "      <td>26.389130</td>\n",
              "      <td>-1.551573</td>\n",
              "      <td>-6.266101</td>\n",
              "      <td>12.336677</td>\n",
              "      <td>-4.233837</td>\n",
              "      <td>28.804476</td>\n",
              "      <td>...</td>\n",
              "      <td>-0.508362</td>\n",
              "      <td>-0.002824</td>\n",
              "      <td>3.468022</td>\n",
              "      <td>-5.338577</td>\n",
              "      <td>2.749607</td>\n",
              "      <td>-4.885605</td>\n",
              "      <td>0.067100</td>\n",
              "      <td>-0.993985</td>\n",
              "      <td>-2.070923</td>\n",
              "      <td>1.086707</td>\n",
              "    </tr>\n",
              "  </tbody>\n",
              "</table>\n",
              "<p>5 rows × 615 columns</p>\n",
              "</div>\n",
              "      <button class=\"colab-df-convert\" onclick=\"convertToInteractive('df-add871da-2145-48ce-aded-24c0241448e3')\"\n",
              "              title=\"Convert this dataframe to an interactive table.\"\n",
              "              style=\"display:none;\">\n",
              "        \n",
              "  <svg xmlns=\"http://www.w3.org/2000/svg\" height=\"24px\"viewBox=\"0 0 24 24\"\n",
              "       width=\"24px\">\n",
              "    <path d=\"M0 0h24v24H0V0z\" fill=\"none\"/>\n",
              "    <path d=\"M18.56 5.44l.94 2.06.94-2.06 2.06-.94-2.06-.94-.94-2.06-.94 2.06-2.06.94zm-11 1L8.5 8.5l.94-2.06 2.06-.94-2.06-.94L8.5 2.5l-.94 2.06-2.06.94zm10 10l.94 2.06.94-2.06 2.06-.94-2.06-.94-.94-2.06-.94 2.06-2.06.94z\"/><path d=\"M17.41 7.96l-1.37-1.37c-.4-.4-.92-.59-1.43-.59-.52 0-1.04.2-1.43.59L10.3 9.45l-7.72 7.72c-.78.78-.78 2.05 0 2.83L4 21.41c.39.39.9.59 1.41.59.51 0 1.02-.2 1.41-.59l7.78-7.78 2.81-2.81c.8-.78.8-2.07 0-2.86zM5.41 20L4 18.59l7.72-7.72 1.47 1.35L5.41 20z\"/>\n",
              "  </svg>\n",
              "      </button>\n",
              "      \n",
              "  <style>\n",
              "    .colab-df-container {\n",
              "      display:flex;\n",
              "      flex-wrap:wrap;\n",
              "      gap: 12px;\n",
              "    }\n",
              "\n",
              "    .colab-df-convert {\n",
              "      background-color: #E8F0FE;\n",
              "      border: none;\n",
              "      border-radius: 50%;\n",
              "      cursor: pointer;\n",
              "      display: none;\n",
              "      fill: #1967D2;\n",
              "      height: 32px;\n",
              "      padding: 0 0 0 0;\n",
              "      width: 32px;\n",
              "    }\n",
              "\n",
              "    .colab-df-convert:hover {\n",
              "      background-color: #E2EBFA;\n",
              "      box-shadow: 0px 1px 2px rgba(60, 64, 67, 0.3), 0px 1px 3px 1px rgba(60, 64, 67, 0.15);\n",
              "      fill: #174EA6;\n",
              "    }\n",
              "\n",
              "    [theme=dark] .colab-df-convert {\n",
              "      background-color: #3B4455;\n",
              "      fill: #D2E3FC;\n",
              "    }\n",
              "\n",
              "    [theme=dark] .colab-df-convert:hover {\n",
              "      background-color: #434B5C;\n",
              "      box-shadow: 0px 1px 3px 1px rgba(0, 0, 0, 0.15);\n",
              "      filter: drop-shadow(0px 1px 2px rgba(0, 0, 0, 0.3));\n",
              "      fill: #FFFFFF;\n",
              "    }\n",
              "  </style>\n",
              "\n",
              "      <script>\n",
              "        const buttonEl =\n",
              "          document.querySelector('#df-add871da-2145-48ce-aded-24c0241448e3 button.colab-df-convert');\n",
              "        buttonEl.style.display =\n",
              "          google.colab.kernel.accessAllowed ? 'block' : 'none';\n",
              "\n",
              "        async function convertToInteractive(key) {\n",
              "          const element = document.querySelector('#df-add871da-2145-48ce-aded-24c0241448e3');\n",
              "          const dataTable =\n",
              "            await google.colab.kernel.invokeFunction('convertToInteractive',\n",
              "                                                     [key], {});\n",
              "          if (!dataTable) return;\n",
              "\n",
              "          const docLinkHtml = 'Like what you see? Visit the ' +\n",
              "            '<a target=\"_blank\" href=https://colab.research.google.com/notebooks/data_table.ipynb>data table notebook</a>'\n",
              "            + ' to learn more about interactive tables.';\n",
              "          element.innerHTML = '';\n",
              "          dataTable['output_type'] = 'display_data';\n",
              "          await google.colab.output.renderOutput(dataTable, element);\n",
              "          const docLink = document.createElement('div');\n",
              "          docLink.innerHTML = docLinkHtml;\n",
              "          element.appendChild(docLink);\n",
              "        }\n",
              "      </script>\n",
              "    </div>\n",
              "  </div>\n",
              "  "
            ]
          },
          "metadata": {},
          "execution_count": 53
        }
      ]
    },
    {
      "cell_type": "code",
      "source": [
        "df_pca.shape"
      ],
      "metadata": {
        "colab": {
          "base_uri": "https://localhost:8080/"
        },
        "id": "KeyHrw3rSr8X",
        "outputId": "dc2c748c-fcd7-48d4-ec14-77ecfec113d8"
      },
      "execution_count": 54,
      "outputs": [
        {
          "output_type": "execute_result",
          "data": {
            "text/plain": [
              "(801, 615)"
            ]
          },
          "metadata": {},
          "execution_count": 54
        }
      ]
    },
    {
      "cell_type": "code",
      "source": [
        "X=df_pca #assigning the value to X"
      ],
      "metadata": {
        "id": "Gsb_Fv9iQgnL"
      },
      "execution_count": 55,
      "outputs": []
    },
    {
      "cell_type": "code",
      "source": [
        "X.shape"
      ],
      "metadata": {
        "colab": {
          "base_uri": "https://localhost:8080/"
        },
        "id": "fOwktexASZM3",
        "outputId": "8de3b623-9d00-4de6-c1c8-c213c80b1718"
      },
      "execution_count": 56,
      "outputs": [
        {
          "output_type": "execute_result",
          "data": {
            "text/plain": [
              "(801, 615)"
            ]
          },
          "metadata": {},
          "execution_count": 56
        }
      ]
    },
    {
      "cell_type": "code",
      "source": [
        "#Splitting into train and test split"
      ],
      "metadata": {
        "id": "bg8D5o8jQnga"
      },
      "execution_count": 57,
      "outputs": []
    },
    {
      "cell_type": "code",
      "source": [
        "X_train,X_test,y_train,y_test=train_test_split(X,y,test_size=0.2,random_state=42)\n",
        "X_train.shape,X_test.shape,y_train.shape,y_test.shape"
      ],
      "metadata": {
        "colab": {
          "base_uri": "https://localhost:8080/"
        },
        "id": "pW6CLl9YRRRi",
        "outputId": "ae81c686-bce1-4466-caed-c59a9f427192"
      },
      "execution_count": 58,
      "outputs": [
        {
          "output_type": "execute_result",
          "data": {
            "text/plain": [
              "((640, 615), (161, 615), (640,), (161,))"
            ]
          },
          "metadata": {},
          "execution_count": 58
        }
      ]
    },
    {
      "cell_type": "code",
      "source": [
        "#Checking y train counts"
      ],
      "metadata": {
        "id": "rkiQQs5GTbeA"
      },
      "execution_count": 59,
      "outputs": []
    },
    {
      "cell_type": "code",
      "source": [
        "y_train.value_counts()"
      ],
      "metadata": {
        "colab": {
          "base_uri": "https://localhost:8080/"
        },
        "id": "QxiMeZubUnLO",
        "outputId": "f2ac6916-98b2-4b73-eaff-4625d1122695"
      },
      "execution_count": 60,
      "outputs": [
        {
          "output_type": "execute_result",
          "data": {
            "text/plain": [
              "BRCA    239\n",
              "KIRC    121\n",
              "LUAD    112\n",
              "PRAD    107\n",
              "COAD     61\n",
              "Name: Class, dtype: int64"
            ]
          },
          "metadata": {},
          "execution_count": 60
        }
      ]
    },
    {
      "cell_type": "code",
      "source": [
        "oversample=SMOTE()"
      ],
      "metadata": {
        "id": "0iawbbc7UpSD"
      },
      "execution_count": 61,
      "outputs": []
    },
    {
      "cell_type": "code",
      "source": [
        "X_train,y_train=oversample.fit_resample(X_train,y_train)"
      ],
      "metadata": {
        "id": "gytESu5laJW6"
      },
      "execution_count": 62,
      "outputs": []
    },
    {
      "cell_type": "code",
      "source": [
        "y_train.value_counts()"
      ],
      "metadata": {
        "colab": {
          "base_uri": "https://localhost:8080/"
        },
        "id": "59q4zkXcaJn4",
        "outputId": "aa60be41-de35-490a-8077-1dfaa6556e76"
      },
      "execution_count": 63,
      "outputs": [
        {
          "output_type": "execute_result",
          "data": {
            "text/plain": [
              "BRCA    239\n",
              "LUAD    239\n",
              "COAD    239\n",
              "KIRC    239\n",
              "PRAD    239\n",
              "Name: Class, dtype: int64"
            ]
          },
          "metadata": {},
          "execution_count": 63
        }
      ]
    },
    {
      "cell_type": "code",
      "source": [
        "#The classes are balanced now."
      ],
      "metadata": {
        "id": "2NMPiNdzaUL_"
      },
      "execution_count": 64,
      "outputs": []
    },
    {
      "cell_type": "code",
      "source": [
        "#Converting the target class into numerical"
      ],
      "metadata": {
        "id": "q43n3cQQaZVp"
      },
      "execution_count": 65,
      "outputs": []
    },
    {
      "cell_type": "code",
      "source": [
        "y_train=y_train.replace(['BRCA','LUAD','COAD','KIRC','PRAD'],[0,1,2,3,4])\n",
        "y_test=y_test.replace(['BRCA','LUAD','COAD','KIRC','PRAD'],[0,1,2,3,4])"
      ],
      "metadata": {
        "id": "Qa43KIHsabsO"
      },
      "execution_count": 66,
      "outputs": []
    },
    {
      "cell_type": "code",
      "source": [
        "len(y_train),len(y_test)"
      ],
      "metadata": {
        "colab": {
          "base_uri": "https://localhost:8080/"
        },
        "id": "uBlrIGGaafes",
        "outputId": "272ae45d-943b-424a-e223-f08d4ae68c81"
      },
      "execution_count": 67,
      "outputs": [
        {
          "output_type": "execute_result",
          "data": {
            "text/plain": [
              "(1195, 161)"
            ]
          },
          "metadata": {},
          "execution_count": 67
        }
      ]
    },
    {
      "cell_type": "code",
      "source": [
        "#Scaling the data"
      ],
      "metadata": {
        "id": "a7HzOZJ2apgR"
      },
      "execution_count": 68,
      "outputs": []
    },
    {
      "cell_type": "code",
      "source": [
        "sc=StandardScaler()"
      ],
      "metadata": {
        "id": "WdwsZOfxTRzp"
      },
      "execution_count": 69,
      "outputs": []
    },
    {
      "cell_type": "code",
      "source": [
        "X_train_scaled=sc.fit_transform(X_train)\n",
        "X_test_scaled=sc.transform(X_test)"
      ],
      "metadata": {
        "id": "1T5NlV54TT0d"
      },
      "execution_count": 70,
      "outputs": []
    },
    {
      "cell_type": "code",
      "source": [
        "X_train_scaled.shape,X_test_scaled.shape,y_train.shape,y_test.shape"
      ],
      "metadata": {
        "colab": {
          "base_uri": "https://localhost:8080/"
        },
        "id": "CGQYIXtgYqpP",
        "outputId": "6f0db7ba-432f-42be-82fd-1675ccd7b0a2"
      },
      "execution_count": 71,
      "outputs": [
        {
          "output_type": "execute_result",
          "data": {
            "text/plain": [
              "((1195, 615), (161, 615), (1195,), (161,))"
            ]
          },
          "metadata": {},
          "execution_count": 71
        }
      ]
    },
    {
      "cell_type": "code",
      "source": [
        "#Selecting the best parameters"
      ],
      "metadata": {
        "id": "5Z9EFM1XWj3w"
      },
      "execution_count": 72,
      "outputs": []
    },
    {
      "cell_type": "code",
      "source": [
        "rf=RandomForestClassifier()\n",
        "rf.fit(X_train_scaled,y_train)"
      ],
      "metadata": {
        "colab": {
          "base_uri": "https://localhost:8080/"
        },
        "id": "VHqyI80gXzP2",
        "outputId": "41fd71e4-88c3-4078-a096-3cd88d4507dd"
      },
      "execution_count": 73,
      "outputs": [
        {
          "output_type": "execute_result",
          "data": {
            "text/plain": [
              "RandomForestClassifier()"
            ]
          },
          "metadata": {},
          "execution_count": 73
        }
      ]
    },
    {
      "cell_type": "code",
      "source": [
        "tuned_parameters={'n_estimators':[85,100],'min_samples_split':[15,20],'max_depth':[8,10]}"
      ],
      "metadata": {
        "id": "9xU67PwiYjOD"
      },
      "execution_count": 74,
      "outputs": []
    },
    {
      "cell_type": "code",
      "source": [
        "gs_model=GridSearchCV(estimator=rf,param_grid=tuned_parameters,cv=5)\n",
        "gs_model.fit(X_train_scaled,y_train)"
      ],
      "metadata": {
        "colab": {
          "base_uri": "https://localhost:8080/"
        },
        "id": "jU-xT6bEbH9-",
        "outputId": "e7a7cae2-3100-4e56-8280-12b0dafce067"
      },
      "execution_count": 75,
      "outputs": [
        {
          "output_type": "execute_result",
          "data": {
            "text/plain": [
              "GridSearchCV(cv=5, estimator=RandomForestClassifier(),\n",
              "             param_grid={'max_depth': [8, 10], 'min_samples_split': [15, 20],\n",
              "                         'n_estimators': [85, 100]})"
            ]
          },
          "metadata": {},
          "execution_count": 75
        }
      ]
    },
    {
      "cell_type": "code",
      "source": [
        "print('best parameters are: ',gs_model.best_params_)"
      ],
      "metadata": {
        "colab": {
          "base_uri": "https://localhost:8080/"
        },
        "id": "K6XQxhO4bKQw",
        "outputId": "937635e0-940c-490d-d9e8-b4f2ee9932d0"
      },
      "execution_count": 76,
      "outputs": [
        {
          "output_type": "stream",
          "name": "stdout",
          "text": [
            "best parameters are:  {'max_depth': 10, 'min_samples_split': 15, 'n_estimators': 100}\n"
          ]
        }
      ]
    },
    {
      "cell_type": "code",
      "source": [
        "#finding the no. of neighbors for KNN classifier"
      ],
      "metadata": {
        "id": "iZ-hco93bNLM"
      },
      "execution_count": 77,
      "outputs": []
    },
    {
      "cell_type": "code",
      "source": [
        "k_values=range(3,21,2)\n",
        "\n",
        "acc_score={}\n",
        "\n",
        "for k in k_values:\n",
        "    knn=KNeighborsClassifier(n_neighbors=k)\n",
        "    knn.fit(X_train_scaled,y_train)\n",
        "    y_pred=knn.predict(X_test_scaled)\n",
        "    acc_score[k]=accuracy_score(y_test,y_pred)"
      ],
      "metadata": {
        "id": "ZI4o7GKFbQoN"
      },
      "execution_count": 78,
      "outputs": []
    },
    {
      "cell_type": "code",
      "source": [
        "max(acc_score.values())"
      ],
      "metadata": {
        "colab": {
          "base_uri": "https://localhost:8080/"
        },
        "id": "AMnEDQD-bQqh",
        "outputId": "09d8e8d0-29b6-453b-c1fd-3dffddbbc7fc"
      },
      "execution_count": 79,
      "outputs": [
        {
          "output_type": "execute_result",
          "data": {
            "text/plain": [
              "0.2732919254658385"
            ]
          },
          "metadata": {},
          "execution_count": 79
        }
      ]
    },
    {
      "cell_type": "code",
      "source": [
        "max(acc_score,key=acc_score.get)"
      ],
      "metadata": {
        "colab": {
          "base_uri": "https://localhost:8080/"
        },
        "id": "croIaE6DbQtB",
        "outputId": "056fe74e-631f-46eb-d34c-a81ccb2ea57e"
      },
      "execution_count": 80,
      "outputs": [
        {
          "output_type": "execute_result",
          "data": {
            "text/plain": [
              "3"
            ]
          },
          "metadata": {},
          "execution_count": 80
        }
      ]
    },
    {
      "cell_type": "code",
      "source": [
        "models=[GaussianNB(),DecisionTreeClassifier(),RandomForestClassifier(),\n",
        "        RandomForestClassifier(n_estimators=100,min_samples_split=20,max_depth=8),XGBClassifier(dual=False),AdaBoostClassifier(),GradientBoostingClassifier(),\n",
        "       LGBMClassifier(),CatBoostClassifier(logging_level='Silent')]"
      ],
      "metadata": {
        "id": "YFLq-z3mbQvc"
      },
      "execution_count": 81,
      "outputs": []
    },
    {
      "cell_type": "code",
      "source": [
        "for i in range(9):\n",
        "    models[i].fit(X_train_scaled,y_train)\n",
        "    \n",
        "    print(f'{models[i]}: ')\n",
        "    y_pred=models[i].predict(X_test_scaled)\n",
        "    \n",
        "    print('Accuracy: ',accuracy_score(y_test,y_pred))\n",
        "    \n",
        "    print('Confusion Matrix: ')\n",
        "    print(confusion_matrix(y_test,y_pred))\n",
        "    \n",
        "    print('Classification Report: ')\n",
        "    print(classification_report(y_test,y_pred))\n",
        "    print()"
      ],
      "metadata": {
        "colab": {
          "base_uri": "https://localhost:8080/"
        },
        "id": "VJhm2qnzbQyA",
        "outputId": "2a379146-b633-43ab-c6c5-7279a822c72f"
      },
      "execution_count": 82,
      "outputs": [
        {
          "output_type": "stream",
          "name": "stdout",
          "text": [
            "GaussianNB(): \n",
            "Accuracy:  0.5093167701863354\n",
            "Confusion Matrix: \n",
            "[[45  0  0  9  7]\n",
            " [24  2  1  2  0]\n",
            " [10  0  7  0  0]\n",
            " [13  0  0 12  0]\n",
            " [13  0  0  0 16]]\n",
            "Classification Report: \n",
            "              precision    recall  f1-score   support\n",
            "\n",
            "           0       0.43      0.74      0.54        61\n",
            "           1       1.00      0.07      0.13        29\n",
            "           2       0.88      0.41      0.56        17\n",
            "           3       0.52      0.48      0.50        25\n",
            "           4       0.70      0.55      0.62        29\n",
            "\n",
            "    accuracy                           0.51       161\n",
            "   macro avg       0.70      0.45      0.47       161\n",
            "weighted avg       0.64      0.51      0.48       161\n",
            "\n",
            "\n",
            "DecisionTreeClassifier(): \n",
            "Accuracy:  0.9006211180124224\n",
            "Confusion Matrix: \n",
            "[[51  3  3  2  2]\n",
            " [ 3 26  0  0  0]\n",
            " [ 0  2 15  0  0]\n",
            " [ 1  0  0 24  0]\n",
            " [ 0  0  0  0 29]]\n",
            "Classification Report: \n",
            "              precision    recall  f1-score   support\n",
            "\n",
            "           0       0.93      0.84      0.88        61\n",
            "           1       0.84      0.90      0.87        29\n",
            "           2       0.83      0.88      0.86        17\n",
            "           3       0.92      0.96      0.94        25\n",
            "           4       0.94      1.00      0.97        29\n",
            "\n",
            "    accuracy                           0.90       161\n",
            "   macro avg       0.89      0.91      0.90       161\n",
            "weighted avg       0.90      0.90      0.90       161\n",
            "\n",
            "\n",
            "RandomForestClassifier(): \n",
            "Accuracy:  0.9440993788819876\n",
            "Confusion Matrix: \n",
            "[[61  0  0  0  0]\n",
            " [ 4 25  0  0  0]\n",
            " [ 0  0 17  0  0]\n",
            " [ 3  0  0 22  0]\n",
            " [ 2  0  0  0 27]]\n",
            "Classification Report: \n",
            "              precision    recall  f1-score   support\n",
            "\n",
            "           0       0.87      1.00      0.93        61\n",
            "           1       1.00      0.86      0.93        29\n",
            "           2       1.00      1.00      1.00        17\n",
            "           3       1.00      0.88      0.94        25\n",
            "           4       1.00      0.93      0.96        29\n",
            "\n",
            "    accuracy                           0.94       161\n",
            "   macro avg       0.97      0.93      0.95       161\n",
            "weighted avg       0.95      0.94      0.94       161\n",
            "\n",
            "\n",
            "RandomForestClassifier(max_depth=8, min_samples_split=20): \n",
            "Accuracy:  0.9503105590062112\n",
            "Confusion Matrix: \n",
            "[[59  2  0  0  0]\n",
            " [ 1 28  0  0  0]\n",
            " [ 0  0 17  0  0]\n",
            " [ 3  1  0 21  0]\n",
            " [ 1  0  0  0 28]]\n",
            "Classification Report: \n",
            "              precision    recall  f1-score   support\n",
            "\n",
            "           0       0.92      0.97      0.94        61\n",
            "           1       0.90      0.97      0.93        29\n",
            "           2       1.00      1.00      1.00        17\n",
            "           3       1.00      0.84      0.91        25\n",
            "           4       1.00      0.97      0.98        29\n",
            "\n",
            "    accuracy                           0.95       161\n",
            "   macro avg       0.97      0.95      0.95       161\n",
            "weighted avg       0.95      0.95      0.95       161\n",
            "\n",
            "\n",
            "XGBClassifier(dual=False, objective='multi:softprob'): \n",
            "Accuracy:  0.968944099378882\n",
            "Confusion Matrix: \n",
            "[[59  1  0  1  0]\n",
            " [ 0 29  0  0  0]\n",
            " [ 0  1 16  0  0]\n",
            " [ 1  0  0 24  0]\n",
            " [ 1  0  0  0 28]]\n",
            "Classification Report: \n",
            "              precision    recall  f1-score   support\n",
            "\n",
            "           0       0.97      0.97      0.97        61\n",
            "           1       0.94      1.00      0.97        29\n",
            "           2       1.00      0.94      0.97        17\n",
            "           3       0.96      0.96      0.96        25\n",
            "           4       1.00      0.97      0.98        29\n",
            "\n",
            "    accuracy                           0.97       161\n",
            "   macro avg       0.97      0.97      0.97       161\n",
            "weighted avg       0.97      0.97      0.97       161\n",
            "\n",
            "\n",
            "AdaBoostClassifier(): \n",
            "Accuracy:  0.6273291925465838\n",
            "Confusion Matrix: \n",
            "[[ 6 54  0  1  0]\n",
            " [ 0 29  0  0  0]\n",
            " [ 0  1 16  0  0]\n",
            " [ 1  2  0 22  0]\n",
            " [ 0  0  1  0 28]]\n",
            "Classification Report: \n",
            "              precision    recall  f1-score   support\n",
            "\n",
            "           0       0.86      0.10      0.18        61\n",
            "           1       0.34      1.00      0.50        29\n",
            "           2       0.94      0.94      0.94        17\n",
            "           3       0.96      0.88      0.92        25\n",
            "           4       1.00      0.97      0.98        29\n",
            "\n",
            "    accuracy                           0.63       161\n",
            "   macro avg       0.82      0.78      0.70       161\n",
            "weighted avg       0.81      0.63      0.58       161\n",
            "\n",
            "\n",
            "GradientBoostingClassifier(): \n",
            "Accuracy:  0.9751552795031055\n",
            "Confusion Matrix: \n",
            "[[60  0  0  1  0]\n",
            " [ 0 29  0  0  0]\n",
            " [ 0  1 16  0  0]\n",
            " [ 1  0  0 24  0]\n",
            " [ 1  0  0  0 28]]\n",
            "Classification Report: \n",
            "              precision    recall  f1-score   support\n",
            "\n",
            "           0       0.97      0.98      0.98        61\n",
            "           1       0.97      1.00      0.98        29\n",
            "           2       1.00      0.94      0.97        17\n",
            "           3       0.96      0.96      0.96        25\n",
            "           4       1.00      0.97      0.98        29\n",
            "\n",
            "    accuracy                           0.98       161\n",
            "   macro avg       0.98      0.97      0.97       161\n",
            "weighted avg       0.98      0.98      0.98       161\n",
            "\n",
            "\n",
            "LGBMClassifier(): \n",
            "Accuracy:  0.968944099378882\n",
            "Confusion Matrix: \n",
            "[[59  2  0  0  0]\n",
            " [ 0 29  0  0  0]\n",
            " [ 0  1 16  0  0]\n",
            " [ 1  0  0 24  0]\n",
            " [ 0  1  0  0 28]]\n",
            "Classification Report: \n",
            "              precision    recall  f1-score   support\n",
            "\n",
            "           0       0.98      0.97      0.98        61\n",
            "           1       0.88      1.00      0.94        29\n",
            "           2       1.00      0.94      0.97        17\n",
            "           3       1.00      0.96      0.98        25\n",
            "           4       1.00      0.97      0.98        29\n",
            "\n",
            "    accuracy                           0.97       161\n",
            "   macro avg       0.97      0.97      0.97       161\n",
            "weighted avg       0.97      0.97      0.97       161\n",
            "\n",
            "\n",
            "<catboost.core.CatBoostClassifier object at 0x7f460e93e4f0>: \n",
            "Accuracy:  0.9813664596273292\n",
            "Confusion Matrix: \n",
            "[[60  1  0  0  0]\n",
            " [ 0 29  0  0  0]\n",
            " [ 0  1 16  0  0]\n",
            " [ 1  0  0 24  0]\n",
            " [ 0  0  0  0 29]]\n",
            "Classification Report: \n",
            "              precision    recall  f1-score   support\n",
            "\n",
            "           0       0.98      0.98      0.98        61\n",
            "           1       0.94      1.00      0.97        29\n",
            "           2       1.00      0.94      0.97        17\n",
            "           3       1.00      0.96      0.98        25\n",
            "           4       1.00      1.00      1.00        29\n",
            "\n",
            "    accuracy                           0.98       161\n",
            "   macro avg       0.98      0.98      0.98       161\n",
            "weighted avg       0.98      0.98      0.98       161\n",
            "\n",
            "\n"
          ]
        }
      ]
    },
    {
      "cell_type": "code",
      "source": [],
      "metadata": {
        "id": "Smx3wF_1go-S"
      },
      "execution_count": null,
      "outputs": []
    },
    {
      "cell_type": "code",
      "source": [],
      "metadata": {
        "id": "9qmMNNhhbQ0d"
      },
      "execution_count": 82,
      "outputs": []
    },
    {
      "cell_type": "code",
      "source": [],
      "metadata": {
        "id": "oGmKN_QpbQ20"
      },
      "execution_count": null,
      "outputs": []
    },
    {
      "cell_type": "code",
      "source": [],
      "metadata": {
        "id": "az6e0CpnbQ6O"
      },
      "execution_count": null,
      "outputs": []
    }
  ]
}